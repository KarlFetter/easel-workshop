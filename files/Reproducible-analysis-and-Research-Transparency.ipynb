{
 "cells": [
  {
   "cell_type": "markdown",
   "metadata": {},
   "source": [
    "# Introduction\n",
    "\n",
    "This is an [R Markdown](http://rmarkdown.rstudio.com) Notebook for the analysis of the [bird ringing data Netherlands 1960-1990 part 1, led by  Henk van der Jeugd](https://doi.org/10.17026/dans-2ch-6s6r).\n",
    "\n",
    "In an R notebook we can combine text, code and data together. The text is formated using [Markdown](), whereas data and code are located within ` ```{r}``` `blocks.\n",
    "\n",
    "An R Notebook can rely on external libraries. The following block adds the required `knitr` library, as well as some additional ones for data wrangling the calculation of indices."
   ]
  },
  {
   "cell_type": "code",
   "execution_count": 1,
   "metadata": {},
   "outputs": [
    {
     "name": "stderr",
     "output_type": "stream",
     "text": [
      "\n",
      "Attaching package: 'dplyr'\n",
      "\n",
      "The following objects are masked from 'package:stats':\n",
      "\n",
      "    filter, lag\n",
      "\n",
      "The following objects are masked from 'package:base':\n",
      "\n",
      "    intersect, setdiff, setequal, union\n",
      "\n",
      "Loading required package: permute\n",
      "Loading required package: lattice\n",
      "This is vegan 2.4-4\n"
     ]
    }
   ],
   "source": [
    "# Data Analysis Libraries\n",
    "library(dplyr)\n",
    "library(tidyr)\n",
    "\n",
    "# [Community Ecology Package](https://cran.r-project.org/web/packages/vegan/index.html)\n",
    "library(vegan)\n",
    "\n",
    "# Visualization Libraries\n",
    "library(ggplot2)"
   ]
  },
  {
   "cell_type": "markdown",
   "metadata": {},
   "source": [
    "# Loading and Cleaning Data\n",
    "\n",
    "For our first step, we will load the data and then view the top records as well as a summary of all variables included."
   ]
  },
  {
   "cell_type": "code",
   "execution_count": 2,
   "metadata": {},
   "outputs": [
    {
     "data": {
      "text/html": [
       "<table>\n",
       "<thead><tr><th scope=col>CatchID</th><th scope=col>Remarks_Public</th><th scope=col>SchemeCode</th><th scope=col>Ringnumber</th><th scope=col>Ringtype</th><th scope=col>RingID</th><th scope=col>SpeciesCode</th><th scope=col>CatchDate</th><th scope=col>CatchTime</th><th scope=col>MetalRingInformation</th><th scope=col>...</th><th scope=col>Location</th><th scope=col>Code</th><th scope=col>Own.location.description</th><th scope=col>Latitude</th><th scope=col>Longitude</th><th scope=col>Accuracy.of.coordinates</th><th scope=col>Catching.Method</th><th scope=col>Catching.Lures</th><th scope=col>Condition</th><th scope=col>Circumstances</th></tr></thead>\n",
       "<tbody>\n",
       "\t<tr><td>80002                                           </td><td>Import historische Data 2a                      </td><td>NLA                                             </td><td>....270376                                      </td><td>8.0                                             </td><td>6270108                                         </td><td>5900                                            </td><td>1962-07-01 00:00:00.000                         </td><td>----                                            </td><td>2                                               </td><td>...                                             </td><td>Stappeland 48, Texel, De Koog, Noord-Holland, NL</td><td>NL00                                            </td><td>NULL                                            </td><td>53.1017                                         </td><td>4.767595                                        </td><td>11                                              </td><td>Z                                               </td><td>U                                               </td><td>8                                               </td><td>20                                              </td></tr>\n",
       "\t<tr><td>80003                                           </td><td>Import historische Data 2a                      </td><td>NLA                                             </td><td>....270377                                      </td><td>8.0                                             </td><td>6270109                                         </td><td>5900                                            </td><td>1962-07-01 00:00:00.000                         </td><td>----                                            </td><td>2                                               </td><td>...                                             </td><td>Stappeland 48, Texel, De Koog, Noord-Holland, NL</td><td>NL00                                            </td><td>NULL                                            </td><td>53.1017                                         </td><td>4.767595                                        </td><td>11                                              </td><td>Z                                               </td><td>U                                               </td><td>8                                               </td><td>20                                              </td></tr>\n",
       "\t<tr><td>80004                                           </td><td>Import historische Data 2a                      </td><td>NLA                                             </td><td>....270378                                      </td><td>8.0                                             </td><td>6270110                                         </td><td>5900                                            </td><td>1962-07-01 00:00:00.000                         </td><td>----                                            </td><td>2                                               </td><td>...                                             </td><td>Stappeland 48, Texel, De Koog, Noord-Holland, NL</td><td>NL00                                            </td><td>NULL                                            </td><td>53.1017                                         </td><td>4.767595                                        </td><td>11                                              </td><td>Z                                               </td><td>U                                               </td><td>8                                               </td><td>20                                              </td></tr>\n",
       "\t<tr><td>80005                                           </td><td>Import historische Data 2a                      </td><td>NLA                                             </td><td>....270379                                      </td><td>8.0                                             </td><td>6270111                                         </td><td>5900                                            </td><td>1962-07-01 00:00:00.000                         </td><td>----                                            </td><td>2                                               </td><td>...                                             </td><td>Stappeland 48, Texel, De Koog, Noord-Holland, NL</td><td>NL00                                            </td><td>NULL                                            </td><td>53.1017                                         </td><td>4.767595                                        </td><td>11                                              </td><td>Z                                               </td><td>U                                               </td><td>8                                               </td><td>20                                              </td></tr>\n",
       "\t<tr><td>80006                                           </td><td>Import historische Data 2a                      </td><td>NLA                                             </td><td>....270380                                      </td><td>8.0                                             </td><td>6270112                                         </td><td>4500                                            </td><td>1962-07-01 00:00:00.000                         </td><td>----                                            </td><td>2                                               </td><td>...                                             </td><td>Stappeland 48, Texel, De Koog, Noord-Holland, NL</td><td>NL00                                            </td><td>NULL                                            </td><td>53.1017                                         </td><td>4.767595                                        </td><td>11                                              </td><td>Z                                               </td><td>U                                               </td><td>8                                               </td><td>20                                              </td></tr>\n",
       "\t<tr><td>80007                                           </td><td>Import historische Data 2a                      </td><td>NLA                                             </td><td>....270381                                      </td><td>8.0                                             </td><td>6270113                                         </td><td>5900                                            </td><td>1962-07-02 00:00:00.000                         </td><td>----                                            </td><td>2                                               </td><td>...                                             </td><td>Stappeland 48, Texel, De Koog, Noord-Holland, NL</td><td>NL00                                            </td><td>NULL                                            </td><td>53.1017                                         </td><td>4.767595                                        </td><td>11                                              </td><td>Z                                               </td><td>U                                               </td><td>8                                               </td><td>20                                              </td></tr>\n",
       "</tbody>\n",
       "</table>\n"
      ],
      "text/latex": [
       "\\begin{tabular}{r|lllllllllllllllllllllllllllllllll}\n",
       " CatchID & Remarks\\_Public & SchemeCode & Ringnumber & Ringtype & RingID & SpeciesCode & CatchDate & CatchTime & MetalRingInformation & ... & Location & Code & Own.location.description & Latitude & Longitude & Accuracy.of.coordinates & Catching.Method & Catching.Lures & Condition & Circumstances\\\\\n",
       "\\hline\n",
       "\t 80002                                            & Import historische Data 2a                       & NLA                                              & ....270376                                       & 8.0                                              & 6270108                                          & 5900                                             & 1962-07-01 00:00:00.000                          & ----                                             & 2                                                & ...                                              & Stappeland 48, Texel, De Koog, Noord-Holland, NL & NL00                                             & NULL                                             & 53.1017                                          & 4.767595                                         & 11                                               & Z                                                & U                                                & 8                                                & 20                                              \\\\\n",
       "\t 80003                                            & Import historische Data 2a                       & NLA                                              & ....270377                                       & 8.0                                              & 6270109                                          & 5900                                             & 1962-07-01 00:00:00.000                          & ----                                             & 2                                                & ...                                              & Stappeland 48, Texel, De Koog, Noord-Holland, NL & NL00                                             & NULL                                             & 53.1017                                          & 4.767595                                         & 11                                               & Z                                                & U                                                & 8                                                & 20                                              \\\\\n",
       "\t 80004                                            & Import historische Data 2a                       & NLA                                              & ....270378                                       & 8.0                                              & 6270110                                          & 5900                                             & 1962-07-01 00:00:00.000                          & ----                                             & 2                                                & ...                                              & Stappeland 48, Texel, De Koog, Noord-Holland, NL & NL00                                             & NULL                                             & 53.1017                                          & 4.767595                                         & 11                                               & Z                                                & U                                                & 8                                                & 20                                              \\\\\n",
       "\t 80005                                            & Import historische Data 2a                       & NLA                                              & ....270379                                       & 8.0                                              & 6270111                                          & 5900                                             & 1962-07-01 00:00:00.000                          & ----                                             & 2                                                & ...                                              & Stappeland 48, Texel, De Koog, Noord-Holland, NL & NL00                                             & NULL                                             & 53.1017                                          & 4.767595                                         & 11                                               & Z                                                & U                                                & 8                                                & 20                                              \\\\\n",
       "\t 80006                                            & Import historische Data 2a                       & NLA                                              & ....270380                                       & 8.0                                              & 6270112                                          & 4500                                             & 1962-07-01 00:00:00.000                          & ----                                             & 2                                                & ...                                              & Stappeland 48, Texel, De Koog, Noord-Holland, NL & NL00                                             & NULL                                             & 53.1017                                          & 4.767595                                         & 11                                               & Z                                                & U                                                & 8                                                & 20                                              \\\\\n",
       "\t 80007                                            & Import historische Data 2a                       & NLA                                              & ....270381                                       & 8.0                                              & 6270113                                          & 5900                                             & 1962-07-02 00:00:00.000                          & ----                                             & 2                                                & ...                                              & Stappeland 48, Texel, De Koog, Noord-Holland, NL & NL00                                             & NULL                                             & 53.1017                                          & 4.767595                                         & 11                                               & Z                                                & U                                                & 8                                                & 20                                              \\\\\n",
       "\\end{tabular}\n"
      ],
      "text/markdown": [
       "\n",
       "CatchID | Remarks_Public | SchemeCode | Ringnumber | Ringtype | RingID | SpeciesCode | CatchDate | CatchTime | MetalRingInformation | ... | Location | Code | Own.location.description | Latitude | Longitude | Accuracy.of.coordinates | Catching.Method | Catching.Lures | Condition | Circumstances | \n",
       "|---|---|---|---|---|---|\n",
       "| 80002                                            | Import historische Data 2a                       | NLA                                              | ....270376                                       | 8.0                                              | 6270108                                          | 5900                                             | 1962-07-01 00:00:00.000                          | ----                                             | 2                                                | ...                                              | Stappeland 48, Texel, De Koog, Noord-Holland, NL | NL00                                             | NULL                                             | 53.1017                                          | 4.767595                                         | 11                                               | Z                                                | U                                                | 8                                                | 20                                               | \n",
       "| 80003                                            | Import historische Data 2a                       | NLA                                              | ....270377                                       | 8.0                                              | 6270109                                          | 5900                                             | 1962-07-01 00:00:00.000                          | ----                                             | 2                                                | ...                                              | Stappeland 48, Texel, De Koog, Noord-Holland, NL | NL00                                             | NULL                                             | 53.1017                                          | 4.767595                                         | 11                                               | Z                                                | U                                                | 8                                                | 20                                               | \n",
       "| 80004                                            | Import historische Data 2a                       | NLA                                              | ....270378                                       | 8.0                                              | 6270110                                          | 5900                                             | 1962-07-01 00:00:00.000                          | ----                                             | 2                                                | ...                                              | Stappeland 48, Texel, De Koog, Noord-Holland, NL | NL00                                             | NULL                                             | 53.1017                                          | 4.767595                                         | 11                                               | Z                                                | U                                                | 8                                                | 20                                               | \n",
       "| 80005                                            | Import historische Data 2a                       | NLA                                              | ....270379                                       | 8.0                                              | 6270111                                          | 5900                                             | 1962-07-01 00:00:00.000                          | ----                                             | 2                                                | ...                                              | Stappeland 48, Texel, De Koog, Noord-Holland, NL | NL00                                             | NULL                                             | 53.1017                                          | 4.767595                                         | 11                                               | Z                                                | U                                                | 8                                                | 20                                               | \n",
       "| 80006                                            | Import historische Data 2a                       | NLA                                              | ....270380                                       | 8.0                                              | 6270112                                          | 4500                                             | 1962-07-01 00:00:00.000                          | ----                                             | 2                                                | ...                                              | Stappeland 48, Texel, De Koog, Noord-Holland, NL | NL00                                             | NULL                                             | 53.1017                                          | 4.767595                                         | 11                                               | Z                                                | U                                                | 8                                                | 20                                               | \n",
       "| 80007                                            | Import historische Data 2a                       | NLA                                              | ....270381                                       | 8.0                                              | 6270113                                          | 5900                                             | 1962-07-02 00:00:00.000                          | ----                                             | 2                                                | ...                                              | Stappeland 48, Texel, De Koog, Noord-Holland, NL | NL00                                             | NULL                                             | 53.1017                                          | 4.767595                                         | 11                                               | Z                                                | U                                                | 8                                                | 20                                               | \n",
       "\n",
       "\n"
      ],
      "text/plain": [
       "  CatchID Remarks_Public             SchemeCode Ringnumber Ringtype RingID \n",
       "1 80002   Import historische Data 2a NLA        ....270376 8.0      6270108\n",
       "2 80003   Import historische Data 2a NLA        ....270377 8.0      6270109\n",
       "3 80004   Import historische Data 2a NLA        ....270378 8.0      6270110\n",
       "4 80005   Import historische Data 2a NLA        ....270379 8.0      6270111\n",
       "5 80006   Import historische Data 2a NLA        ....270380 8.0      6270112\n",
       "6 80007   Import historische Data 2a NLA        ....270381 8.0      6270113\n",
       "  SpeciesCode CatchDate               CatchTime MetalRingInformation ...\n",
       "1 5900        1962-07-01 00:00:00.000 ----      2                    ...\n",
       "2 5900        1962-07-01 00:00:00.000 ----      2                    ...\n",
       "3 5900        1962-07-01 00:00:00.000 ----      2                    ...\n",
       "4 5900        1962-07-01 00:00:00.000 ----      2                    ...\n",
       "5 4500        1962-07-01 00:00:00.000 ----      2                    ...\n",
       "6 5900        1962-07-02 00:00:00.000 ----      2                    ...\n",
       "  Location                                         Code\n",
       "1 Stappeland 48, Texel, De Koog, Noord-Holland, NL NL00\n",
       "2 Stappeland 48, Texel, De Koog, Noord-Holland, NL NL00\n",
       "3 Stappeland 48, Texel, De Koog, Noord-Holland, NL NL00\n",
       "4 Stappeland 48, Texel, De Koog, Noord-Holland, NL NL00\n",
       "5 Stappeland 48, Texel, De Koog, Noord-Holland, NL NL00\n",
       "6 Stappeland 48, Texel, De Koog, Noord-Holland, NL NL00\n",
       "  Own.location.description Latitude Longitude Accuracy.of.coordinates\n",
       "1 NULL                     53.1017  4.767595  11                     \n",
       "2 NULL                     53.1017  4.767595  11                     \n",
       "3 NULL                     53.1017  4.767595  11                     \n",
       "4 NULL                     53.1017  4.767595  11                     \n",
       "5 NULL                     53.1017  4.767595  11                     \n",
       "6 NULL                     53.1017  4.767595  11                     \n",
       "  Catching.Method Catching.Lures Condition Circumstances\n",
       "1 Z               U              8         20           \n",
       "2 Z               U              8         20           \n",
       "3 Z               U              8         20           \n",
       "4 Z               U              8         20           \n",
       "5 Z               U              8         20           \n",
       "6 Z               U              8         20           "
      ]
     },
     "metadata": {},
     "output_type": "display_data"
    },
    {
     "data": {
      "text/plain": [
       "    CatchID                            Remarks_Public  SchemeCode \n",
       " Min.   :   80002   Import Historische Data 2 :39391   NLA:66352  \n",
       " 1st Qu.:  257426   Import historische Data 2a:26962   NLL:    1  \n",
       " Median :10419291                                                 \n",
       " Mean   : 6807335                                                 \n",
       " 3rd Qu.:10435879                                                 \n",
       " Max.   :10452467                                                 \n",
       "                                                                  \n",
       "      Ringnumber       Ringtype         RingID          SpeciesCode   \n",
       " ...3365401:    2   NULL   :60487   Min.   :   15930   Min.   :    0  \n",
       " ....187951:    1   2.5    : 4143   1st Qu.: 6433496   1st Qu.: 4930  \n",
       " ....187952:    1   5.5    :  631   Median :10339764   Median :10990  \n",
       " ....187953:    1   11.0   :  529   Mean   : 8450059   Mean   :10747  \n",
       " ....234500:    1   9.0    :  491   3rd Qu.:10356351   3rd Qu.:15980  \n",
       " ....262416:    1   10.0   :   45   Max.   :10372939   Max.   :99999  \n",
       " (Other)   :66346   (Other):   27                                     \n",
       "                   CatchDate     CatchTime    MetalRingInformation\n",
       " 1962-10-27 00:00:00.000:  459   ----:66353   Min.   :1.00        \n",
       " 1962-11-05 00:00:00.000:  450                1st Qu.:1.00        \n",
       " 1962-11-01 00:00:00.000:  446                Median :1.00        \n",
       " 1962-06-09 00:00:00.000:  406                Mean   :1.29        \n",
       " 1962-10-05 00:00:00.000:  373                3rd Qu.:1.00        \n",
       " 1962-06-23 00:00:00.000:  361                Max.   :3.00        \n",
       " (Other)                :63858                                    \n",
       " Other.Marks.code Other.Marks.Description Other.Marks.Code.Tag\n",
       "     :  398           :  398                  :  398          \n",
       " NULL:65955       NULL:65955              NULL:65955          \n",
       "                                                              \n",
       "                                                              \n",
       "                                                              \n",
       "                                                              \n",
       "                                                              \n",
       "                   Species                   SystemDescription      Age       \n",
       " Northern Lapwing      :10256   Vanellus vanellus     :10256   1      :29494  \n",
       " Great Tit             : 4842   Parus major           : 4842   2      :19502  \n",
       " Common Chaffinch      : 4146   Fringilla coelebs     : 4146   3      :10162  \n",
       " Twite                 : 3971   Carduelis flavirostris: 3971   4      : 6175  \n",
       " Barn Swallow          : 3691   Hirundo rustica       : 3691   0      :  574  \n",
       " European Golden Plover: 3070   Pluvialis apricaria   : 3070   5      :  198  \n",
       " (Other)               :36377   (Other)               :36377   (Other):  248  \n",
       " Sex       Status      Broodsize     Accuracy.of.date   Manipulated\n",
       " F: 8580   -:29493   --     :36483   Min.   :0.000000   C:   39    \n",
       " M: 9348   N:   34   0      :17063   1st Qu.:0.000000   F:    1    \n",
       " U:48425   R:  230   4      : 2854   Median :0.000000   H:   47    \n",
       "           T:  246   5      : 2778   Mean   :0.000105   N:26845    \n",
       "           U:36350   3      : 1866   3rd Qu.:0.000000   P:    6    \n",
       "                     6      : 1531   Max.   :5.000000   T:   23    \n",
       "                     (Other): 3778                      U:39392    \n",
       "  MovedBefore PullusAge \n",
       " Min.   :0    --:36428  \n",
       " 1st Qu.:0    22:    3  \n",
       " Median :0    5 :    1  \n",
       " Mean   :0    7 :    4  \n",
       " 3rd Qu.:0    99:29917  \n",
       " Max.   :0              \n",
       "                        \n",
       "                                                                        Location    \n",
       " NULL                                                                       :39391  \n",
       " Castricum, Noord-Holland, NL                                               : 1704  \n",
       " Goedereede, Ouddorp, Brabant, NL                                           : 1103  \n",
       " Wormer, Jisp, Noord-Holland, NL                                            :  762  \n",
       " Burgemeester Peereboomweg, Waterland, Broek in Waterland, Noord-Holland, NL:  745  \n",
       " Schouwen-Duiveland, Zonnemaire, Zeeland, NL                                :  727  \n",
       " (Other)                                                                    :21921  \n",
       "      Code                  Own.location.description    Latitude    \n",
       " NL14   :12617   NULL                   :26520       Min.   :48.48  \n",
       " NL19   :11893   Kennemerduinen         : 1960       1st Qu.:51.92  \n",
       " NL05   : 7480   Ketelhaven             : 1872       Median :52.35  \n",
       " NL06   : 7327   Sparregat, Wassenaar   :  980       Mean   :52.31  \n",
       " NL09   : 6487   Sparregat, Wassenaar ZH:  883       3rd Qu.:52.58  \n",
       " NL17   : 5646   Amby                   :  793       Max.   :54.90  \n",
       " (Other):14903   (Other)                :33345                      \n",
       "   Longitude     Accuracy.of.coordinates Catching.Method Catching.Lures\n",
       " Min.   :3.445   Min.   : 0.000          Z      :53794   -:    1       \n",
       " 1st Qu.:4.620   1st Qu.: 1.000          N      :11403   N:  390       \n",
       " Median :5.230   Median : 1.000          M      :  726   U:65962       \n",
       " Mean   :5.219   Mean   : 4.685          T      :  351                 \n",
       " 3rd Qu.:5.770   3rd Qu.:11.000          C      :   70                 \n",
       " Max.   :8.300   Max.   :12.000          O      :    7                 \n",
       "                                         (Other):    2                 \n",
       "   Condition Circumstances\n",
       " Min.   :8   Min.   :20   \n",
       " 1st Qu.:8   1st Qu.:20   \n",
       " Median :8   Median :20   \n",
       " Mean   :8   Mean   :20   \n",
       " 3rd Qu.:8   3rd Qu.:20   \n",
       " Max.   :8   Max.   :20   \n",
       "                          "
      ]
     },
     "metadata": {},
     "output_type": "display_data"
    }
   ],
   "source": [
    "dansDataSet <- read.csv(file = \"Export_DANS_Parels_van_Datasets_Vogeltrekstation.csv\", header = TRUE)\n",
    "\n",
    "head(dansDataSet)\n",
    "summary(dansDataSet)"
   ]
  },
  {
   "cell_type": "markdown",
   "metadata": {},
   "source": [
    "We observe that even though the data was loaded correctly, they are not used in the best possible way. For example, `Ringnumber`, `CatchDate` and `Age` are used as words rather than as numeric values. Also, missing values are defined as `NULL` which is not recognized as such by R (the correct value would be `NA`). The next block tidies the data, so that that each attribute is treated as originally intended."
   ]
  },
  {
   "cell_type": "code",
   "execution_count": 3,
   "metadata": {},
   "outputs": [
    {
     "data": {
      "text/html": [
       "<table>\n",
       "<thead><tr><th scope=col>CatchID</th><th scope=col>Remarks_Public</th><th scope=col>SchemeCode</th><th scope=col>Ringnumber</th><th scope=col>Ringtype</th><th scope=col>RingID</th><th scope=col>SpeciesCode</th><th scope=col>CatchDate</th><th scope=col>CatchTime</th><th scope=col>MetalRingInformation</th><th scope=col>...</th><th scope=col>Location</th><th scope=col>Code</th><th scope=col>Own.location.description</th><th scope=col>Latitude</th><th scope=col>Longitude</th><th scope=col>Accuracy.of.coordinates</th><th scope=col>Catching.Method</th><th scope=col>Catching.Lures</th><th scope=col>Condition</th><th scope=col>Circumstances</th></tr></thead>\n",
       "<tbody>\n",
       "\t<tr><td>80002                                           </td><td>Import historische Data 2a                      </td><td>NLA                                             </td><td>24                                              </td><td>8.0                                             </td><td>6270108                                         </td><td>5900                                            </td><td>1962-07-01                                      </td><td>----                                            </td><td>2                                               </td><td>...                                             </td><td>Stappeland 48, Texel, De Koog, Noord-Holland, NL</td><td>NL00                                            </td><td>NA                                              </td><td>53.1016990666569                                </td><td>4.7675945487984                                 </td><td>11                                              </td><td>Z                                               </td><td>U                                               </td><td>8                                               </td><td>20                                              </td></tr>\n",
       "\t<tr><td>80003                                           </td><td>Import historische Data 2a                      </td><td>NLA                                             </td><td>25                                              </td><td>8.0                                             </td><td>6270109                                         </td><td>5900                                            </td><td>1962-07-01                                      </td><td>----                                            </td><td>2                                               </td><td>...                                             </td><td>Stappeland 48, Texel, De Koog, Noord-Holland, NL</td><td>NL00                                            </td><td>NA                                              </td><td>53.1016990666569                                </td><td>4.7675945487984                                 </td><td>11                                              </td><td>Z                                               </td><td>U                                               </td><td>8                                               </td><td>20                                              </td></tr>\n",
       "\t<tr><td>80004                                           </td><td>Import historische Data 2a                      </td><td>NLA                                             </td><td>26                                              </td><td>8.0                                             </td><td>6270110                                         </td><td>5900                                            </td><td>1962-07-01                                      </td><td>----                                            </td><td>2                                               </td><td>...                                             </td><td>Stappeland 48, Texel, De Koog, Noord-Holland, NL</td><td>NL00                                            </td><td>NA                                              </td><td>53.1016990666569                                </td><td>4.7675945487984                                 </td><td>11                                              </td><td>Z                                               </td><td>U                                               </td><td>8                                               </td><td>20                                              </td></tr>\n",
       "\t<tr><td>80005                                           </td><td>Import historische Data 2a                      </td><td>NLA                                             </td><td>27                                              </td><td>8.0                                             </td><td>6270111                                         </td><td>5900                                            </td><td>1962-07-01                                      </td><td>----                                            </td><td>2                                               </td><td>...                                             </td><td>Stappeland 48, Texel, De Koog, Noord-Holland, NL</td><td>NL00                                            </td><td>NA                                              </td><td>53.1016990666569                                </td><td>4.7675945487984                                 </td><td>11                                              </td><td>Z                                               </td><td>U                                               </td><td>8                                               </td><td>20                                              </td></tr>\n",
       "\t<tr><td>80006                                           </td><td>Import historische Data 2a                      </td><td>NLA                                             </td><td>28                                              </td><td>8.0                                             </td><td>6270112                                         </td><td>4500                                            </td><td>1962-07-01                                      </td><td>----                                            </td><td>2                                               </td><td>...                                             </td><td>Stappeland 48, Texel, De Koog, Noord-Holland, NL</td><td>NL00                                            </td><td>NA                                              </td><td>53.1016990666569                                </td><td>4.7675945487984                                 </td><td>11                                              </td><td>Z                                               </td><td>U                                               </td><td>8                                               </td><td>20                                              </td></tr>\n",
       "\t<tr><td>80007                                           </td><td>Import historische Data 2a                      </td><td>NLA                                             </td><td>29                                              </td><td>8.0                                             </td><td>6270113                                         </td><td>5900                                            </td><td>1962-07-02                                      </td><td>----                                            </td><td>2                                               </td><td>...                                             </td><td>Stappeland 48, Texel, De Koog, Noord-Holland, NL</td><td>NL00                                            </td><td>NA                                              </td><td>53.1016990666569                                </td><td>4.7675945487984                                 </td><td>11                                              </td><td>Z                                               </td><td>U                                               </td><td>8                                               </td><td>20                                              </td></tr>\n",
       "</tbody>\n",
       "</table>\n"
      ],
      "text/latex": [
       "\\begin{tabular}{r|lllllllllllllllllllllllllllllllll}\n",
       " CatchID & Remarks\\_Public & SchemeCode & Ringnumber & Ringtype & RingID & SpeciesCode & CatchDate & CatchTime & MetalRingInformation & ... & Location & Code & Own.location.description & Latitude & Longitude & Accuracy.of.coordinates & Catching.Method & Catching.Lures & Condition & Circumstances\\\\\n",
       "\\hline\n",
       "\t 80002                                            & Import historische Data 2a                       & NLA                                              & 24                                               & 8.0                                              & 6270108                                          & 5900                                             & 1962-07-01                                       & ----                                             & 2                                                & ...                                              & Stappeland 48, Texel, De Koog, Noord-Holland, NL & NL00                                             & NA                                               & 53.1016990666569                                 & 4.7675945487984                                  & 11                                               & Z                                                & U                                                & 8                                                & 20                                              \\\\\n",
       "\t 80003                                            & Import historische Data 2a                       & NLA                                              & 25                                               & 8.0                                              & 6270109                                          & 5900                                             & 1962-07-01                                       & ----                                             & 2                                                & ...                                              & Stappeland 48, Texel, De Koog, Noord-Holland, NL & NL00                                             & NA                                               & 53.1016990666569                                 & 4.7675945487984                                  & 11                                               & Z                                                & U                                                & 8                                                & 20                                              \\\\\n",
       "\t 80004                                            & Import historische Data 2a                       & NLA                                              & 26                                               & 8.0                                              & 6270110                                          & 5900                                             & 1962-07-01                                       & ----                                             & 2                                                & ...                                              & Stappeland 48, Texel, De Koog, Noord-Holland, NL & NL00                                             & NA                                               & 53.1016990666569                                 & 4.7675945487984                                  & 11                                               & Z                                                & U                                                & 8                                                & 20                                              \\\\\n",
       "\t 80005                                            & Import historische Data 2a                       & NLA                                              & 27                                               & 8.0                                              & 6270111                                          & 5900                                             & 1962-07-01                                       & ----                                             & 2                                                & ...                                              & Stappeland 48, Texel, De Koog, Noord-Holland, NL & NL00                                             & NA                                               & 53.1016990666569                                 & 4.7675945487984                                  & 11                                               & Z                                                & U                                                & 8                                                & 20                                              \\\\\n",
       "\t 80006                                            & Import historische Data 2a                       & NLA                                              & 28                                               & 8.0                                              & 6270112                                          & 4500                                             & 1962-07-01                                       & ----                                             & 2                                                & ...                                              & Stappeland 48, Texel, De Koog, Noord-Holland, NL & NL00                                             & NA                                               & 53.1016990666569                                 & 4.7675945487984                                  & 11                                               & Z                                                & U                                                & 8                                                & 20                                              \\\\\n",
       "\t 80007                                            & Import historische Data 2a                       & NLA                                              & 29                                               & 8.0                                              & 6270113                                          & 5900                                             & 1962-07-02                                       & ----                                             & 2                                                & ...                                              & Stappeland 48, Texel, De Koog, Noord-Holland, NL & NL00                                             & NA                                               & 53.1016990666569                                 & 4.7675945487984                                  & 11                                               & Z                                                & U                                                & 8                                                & 20                                              \\\\\n",
       "\\end{tabular}\n"
      ],
      "text/markdown": [
       "\n",
       "CatchID | Remarks_Public | SchemeCode | Ringnumber | Ringtype | RingID | SpeciesCode | CatchDate | CatchTime | MetalRingInformation | ... | Location | Code | Own.location.description | Latitude | Longitude | Accuracy.of.coordinates | Catching.Method | Catching.Lures | Condition | Circumstances | \n",
       "|---|---|---|---|---|---|\n",
       "| 80002                                            | Import historische Data 2a                       | NLA                                              | 24                                               | 8.0                                              | 6270108                                          | 5900                                             | 1962-07-01                                       | ----                                             | 2                                                | ...                                              | Stappeland 48, Texel, De Koog, Noord-Holland, NL | NL00                                             | NA                                               | 53.1016990666569                                 | 4.7675945487984                                  | 11                                               | Z                                                | U                                                | 8                                                | 20                                               | \n",
       "| 80003                                            | Import historische Data 2a                       | NLA                                              | 25                                               | 8.0                                              | 6270109                                          | 5900                                             | 1962-07-01                                       | ----                                             | 2                                                | ...                                              | Stappeland 48, Texel, De Koog, Noord-Holland, NL | NL00                                             | NA                                               | 53.1016990666569                                 | 4.7675945487984                                  | 11                                               | Z                                                | U                                                | 8                                                | 20                                               | \n",
       "| 80004                                            | Import historische Data 2a                       | NLA                                              | 26                                               | 8.0                                              | 6270110                                          | 5900                                             | 1962-07-01                                       | ----                                             | 2                                                | ...                                              | Stappeland 48, Texel, De Koog, Noord-Holland, NL | NL00                                             | NA                                               | 53.1016990666569                                 | 4.7675945487984                                  | 11                                               | Z                                                | U                                                | 8                                                | 20                                               | \n",
       "| 80005                                            | Import historische Data 2a                       | NLA                                              | 27                                               | 8.0                                              | 6270111                                          | 5900                                             | 1962-07-01                                       | ----                                             | 2                                                | ...                                              | Stappeland 48, Texel, De Koog, Noord-Holland, NL | NL00                                             | NA                                               | 53.1016990666569                                 | 4.7675945487984                                  | 11                                               | Z                                                | U                                                | 8                                                | 20                                               | \n",
       "| 80006                                            | Import historische Data 2a                       | NLA                                              | 28                                               | 8.0                                              | 6270112                                          | 4500                                             | 1962-07-01                                       | ----                                             | 2                                                | ...                                              | Stappeland 48, Texel, De Koog, Noord-Holland, NL | NL00                                             | NA                                               | 53.1016990666569                                 | 4.7675945487984                                  | 11                                               | Z                                                | U                                                | 8                                                | 20                                               | \n",
       "| 80007                                            | Import historische Data 2a                       | NLA                                              | 29                                               | 8.0                                              | 6270113                                          | 5900                                             | 1962-07-02                                       | ----                                             | 2                                                | ...                                              | Stappeland 48, Texel, De Koog, Noord-Holland, NL | NL00                                             | NA                                               | 53.1016990666569                                 | 4.7675945487984                                  | 11                                               | Z                                                | U                                                | 8                                                | 20                                               | \n",
       "\n",
       "\n"
      ],
      "text/plain": [
       "  CatchID Remarks_Public             SchemeCode Ringnumber Ringtype RingID \n",
       "1 80002   Import historische Data 2a NLA        24         8.0      6270108\n",
       "2 80003   Import historische Data 2a NLA        25         8.0      6270109\n",
       "3 80004   Import historische Data 2a NLA        26         8.0      6270110\n",
       "4 80005   Import historische Data 2a NLA        27         8.0      6270111\n",
       "5 80006   Import historische Data 2a NLA        28         8.0      6270112\n",
       "6 80007   Import historische Data 2a NLA        29         8.0      6270113\n",
       "  SpeciesCode CatchDate  CatchTime MetalRingInformation ...\n",
       "1 5900        1962-07-01 ----      2                    ...\n",
       "2 5900        1962-07-01 ----      2                    ...\n",
       "3 5900        1962-07-01 ----      2                    ...\n",
       "4 5900        1962-07-01 ----      2                    ...\n",
       "5 4500        1962-07-01 ----      2                    ...\n",
       "6 5900        1962-07-02 ----      2                    ...\n",
       "  Location                                         Code\n",
       "1 Stappeland 48, Texel, De Koog, Noord-Holland, NL NL00\n",
       "2 Stappeland 48, Texel, De Koog, Noord-Holland, NL NL00\n",
       "3 Stappeland 48, Texel, De Koog, Noord-Holland, NL NL00\n",
       "4 Stappeland 48, Texel, De Koog, Noord-Holland, NL NL00\n",
       "5 Stappeland 48, Texel, De Koog, Noord-Holland, NL NL00\n",
       "6 Stappeland 48, Texel, De Koog, Noord-Holland, NL NL00\n",
       "  Own.location.description Latitude         Longitude      \n",
       "1 NA                       53.1016990666569 4.7675945487984\n",
       "2 NA                       53.1016990666569 4.7675945487984\n",
       "3 NA                       53.1016990666569 4.7675945487984\n",
       "4 NA                       53.1016990666569 4.7675945487984\n",
       "5 NA                       53.1016990666569 4.7675945487984\n",
       "6 NA                       53.1016990666569 4.7675945487984\n",
       "  Accuracy.of.coordinates Catching.Method Catching.Lures Condition\n",
       "1 11                      Z               U              8        \n",
       "2 11                      Z               U              8        \n",
       "3 11                      Z               U              8        \n",
       "4 11                      Z               U              8        \n",
       "5 11                      Z               U              8        \n",
       "6 11                      Z               U              8        \n",
       "  Circumstances\n",
       "1 20           \n",
       "2 20           \n",
       "3 20           \n",
       "4 20           \n",
       "5 20           \n",
       "6 20           "
      ]
     },
     "metadata": {},
     "output_type": "display_data"
    },
    {
     "data": {
      "text/plain": [
       "     CatchID                         Remarks_Public  SchemeCode \n",
       " 10413077:    1   Import Historische Data 2 :39391   NLA:66352  \n",
       " 10413078:    1   Import historische Data 2a:26962   NLL:    1  \n",
       " 10413079:    1                                                 \n",
       " 10413080:    1                                                 \n",
       " 10413081:    1                                                 \n",
       " 10413082:    1                                                 \n",
       " (Other) :66347                                                 \n",
       "   Ringnumber       Ringtype          RingID       SpeciesCode   \n",
       " Min.   :    1   2.5    : 4143   10346836:    2   4930   :10256  \n",
       " 1st Qu.:16589   5.5    :  631   10045017:    1   14640  : 4842  \n",
       " Median :33176   11.0   :  529   1016867 :    1   16360  : 4146  \n",
       " Mean   :33176   9.0    :  491   10338352:    1   16620  : 3971  \n",
       " 3rd Qu.:49764   10.0   :   45   10338353:    1   9920   : 3691  \n",
       " Max.   :66352   (Other):   27   10338354:    1   4850   : 3070  \n",
       "                 NA's   :60487   (Other) :66346   (Other):36377  \n",
       "   CatchDate          CatchTime    MetalRingInformation Other.Marks.code\n",
       " Min.   :1902-06-16   ----:66353   1:54443                  :  398      \n",
       " 1st Qu.:1962-08-18                2: 4578              NA's:65955      \n",
       " Median :1963-07-06                3: 7332                              \n",
       " Mean   :1968-06-14                                                     \n",
       " 3rd Qu.:1977-05-01                                                     \n",
       " Max.   :1990-08-28                                                     \n",
       "                                                                        \n",
       " Other.Marks.Description Other.Marks.Code.Tag                   Species     \n",
       "     :  398                  :  398           Northern Lapwing      :10256  \n",
       " NA's:65955              NA's:65955           Great Tit             : 4842  \n",
       "                                              Common Chaffinch      : 4146  \n",
       "                                              Twite                 : 3971  \n",
       "                                              Barn Swallow          : 3691  \n",
       "                                              European Golden Plover: 3070  \n",
       "                                              (Other)               :36377  \n",
       "              SystemDescription      Age         Sex       Status   \n",
       " Vanellus vanellus     :10256   Min.   : 1.000   F: 8580   -:29493  \n",
       " Parus major           : 4842   1st Qu.: 2.000   M: 9348   N:   34  \n",
       " Fringilla coelebs     : 4146   Median : 3.000   U:48425   R:  230  \n",
       " Carduelis flavirostris: 3971   Mean   : 2.903             T:  246  \n",
       " Hirundo rustica       : 3691   3rd Qu.: 4.000             U:36350  \n",
       " Pluvialis apricaria   : 3070   Max.   :11.000                      \n",
       " (Other)               :36377                                       \n",
       "   Broodsize      Accuracy.of.date Manipulated MovedBefore   PullusAge    \n",
       " Min.   : 1.000   0:66351          C:   39     0:66353     Min.   :1.000  \n",
       " 1st Qu.: 1.000   2:    1          F:    1                 1st Qu.:1.000  \n",
       " Median : 1.000   5:    1          H:   47                 Median :1.000  \n",
       " Mean   : 3.198                    N:26845                 Mean   :2.804  \n",
       " 3rd Qu.: 2.000                    P:    6                 3rd Qu.:5.000  \n",
       " Max.   :16.000                    T:   23                 Max.   :5.000  \n",
       "                                   U:39392                                \n",
       "                                                                        Location    \n",
       " Castricum, Noord-Holland, NL                                               : 1704  \n",
       " Goedereede, Ouddorp, Brabant, NL                                           : 1103  \n",
       " Wormer, Jisp, Noord-Holland, NL                                            :  762  \n",
       " Burgemeester Peereboomweg, Waterland, Broek in Waterland, Noord-Holland, NL:  745  \n",
       " Schouwen-Duiveland, Zonnemaire, Zeeland, NL                                :  727  \n",
       " (Other)                                                                    :21921  \n",
       " NA's                                                                       :39391  \n",
       "      Code                  Own.location.description             Latitude    \n",
       " NL14   :12617   Kennemerduinen         : 1960       52.1429096      : 3349  \n",
       " NL19   :11893   Ketelhaven             : 1872       52.4166667      : 1960  \n",
       " NL05   : 7480   Sparregat, Wassenaar   :  980       52.5786035      : 1872  \n",
       " NL06   : 7327   Sparregat, Wassenaar ZH:  883       52.518537       : 1469  \n",
       " NL09   : 6487   Amby                   :  793       52.6324919      : 1267  \n",
       " NL17   : 5646   (Other)                :33345       52.5436106487655: 1154  \n",
       " (Other):14903   NA's                   :26520       (Other)         :55282  \n",
       "            Longitude     Accuracy.of.coordinates Catching.Method\n",
       " 4.4012129       : 3349   0 :  153                Z      :53794  \n",
       " 4.5833333       : 1960   1 :41734                N      :11403  \n",
       " 5.7591097       : 1872   11:24464                M      :  726  \n",
       " 5.471422        : 1469   12:    1                T      :  351  \n",
       " 5.9775545       : 1267   2 :    1                C      :   70  \n",
       " 4.61328899461626: 1154                           O      :    7  \n",
       " (Other)         :55282                           (Other):    2  \n",
       " Catching.Lures Condition Circumstances\n",
       " -:    1        8:66353   20:66353     \n",
       " N:  390                               \n",
       " U:65962                               \n",
       "                                       \n",
       "                                       \n",
       "                                       \n",
       "                                       "
      ]
     },
     "metadata": {},
     "output_type": "display_data"
    }
   ],
   "source": [
    "dansDataSet <- data.frame(lapply(dansDataSet, function(x) { gsub(\"NULL\", NA, x) }))\n",
    "\n",
    "dansDataSet$Ringnumber <- as.numeric(dansDataSet$Ringnumber)\n",
    "dansDataSet$CatchDate <- as.Date(dansDataSet$CatchDate)\n",
    "dansDataSet$Age <- as.numeric(dansDataSet$Age)\n",
    "dansDataSet$Broodsize <- as.numeric(dansDataSet$Broodsize)\n",
    "dansDataSet$PullusAge <- as.numeric(dansDataSet$PullusAge)\n",
    "dansDataSet$CatchDate <- as.Date(dansDataSet$CatchDate)\n",
    "\n",
    "head(dansDataSet)\n",
    "summary(dansDataSet)"
   ]
  },
  {
   "cell_type": "markdown",
   "metadata": {},
   "source": [
    "We can see that the data is much more better formatted and useful for further analysis.\n",
    "\n",
    "# Subsetting our data\n",
    "\n",
    "Let's now create a few subsets of the original data. Subset #1 `dansDataSet_Castricum` will contain all the unique records for which `Location` is `Castricum, Noord-Holland, NL`. Then we will group the records by species and catch date, and calculate number of each species in the particular catch date."
   ]
  },
  {
   "cell_type": "code",
   "execution_count": 4,
   "metadata": {},
   "outputs": [],
   "source": [
    "dansDataSet_Castricum <- dansDataSet %>%\n",
    "  filter(Location == \"Castricum, Noord-Holland, NL\") %>%\n",
    "  select(unique.RingID = RingID, Species, CatchDate) %>%\n",
    "  group_by(Species, CatchDate) %>%\n",
    "  summarise(count = n())"
   ]
  },
  {
   "cell_type": "markdown",
   "metadata": {},
   "source": [
    "We could further filter this subset for a particular species. For example, the code below will retrieve all unique observations of Northern Lapwing in Castricum, Noord-Holland, NL."
   ]
  },
  {
   "cell_type": "code",
   "execution_count": 5,
   "metadata": {},
   "outputs": [],
   "source": [
    "dansDataSet_lapwing <- dansDataSet %>%\n",
    "  filter(Location == \"Castricum, Noord-Holland, NL\") %>%\n",
    "  select(unique.RingID = RingID, Species, CatchDate) %>%\n",
    "  group_by(Species, CatchDate) %>%\n",
    "  filter(as.POSIXct(CatchDate) >= as.POSIXct(\"1970-01-01 00:00:01\")) %>%\n",
    "  filter(Species == \"Northern Lapwing\") %>%\n",
    "  summarise(count = n())"
   ]
  },
  {
   "cell_type": "markdown",
   "metadata": {},
   "source": [
    "Our second subset will create a matrix of the distribution of unique species across the different locations. This will consequently allow us to calculate some diversity indexes."
   ]
  },
  {
   "cell_type": "code",
   "execution_count": 6,
   "metadata": {},
   "outputs": [],
   "source": [
    "dansDataSet_distribution <- dansDataSet %>%\n",
    "  select(unique.RingID = RingID, Species, Location) %>%\n",
    "  group_by(Species, Location) %>%\n",
    "  summarise(count = n()) %>%\n",
    "  filter(count > 0) %>%\n",
    "  na.omit()\n",
    "\n",
    "# spread(data, key, value)\n",
    "#   data: A data frame\n",
    "#   key: The (unquoted) name of the column whose values will be used as column headings.\n",
    "#   value:The (unquoted) names of the column whose values will populate the cells\n",
    "dansDataSet_distribution_matrix <- dansDataSet_distribution %>%\n",
    "  spread(Location, count)"
   ]
  },
  {
   "cell_type": "markdown",
   "metadata": {},
   "source": [
    "We can also create a more specific subset, i.e. of species that have at least 100 unique observations in a given location. This will allow for a cleaner figure."
   ]
  },
  {
   "cell_type": "code",
   "execution_count": 7,
   "metadata": {},
   "outputs": [],
   "source": [
    "dansDataSet_distribution_min100 <- dansDataSet %>%\n",
    "  select(unique.RingID = RingID, Species, Location) %>%\n",
    "  group_by(Species, Location) %>%\n",
    "  summarise(count = n()) %>%\n",
    "  filter(count > 100) %>%\n",
    "  na.omit()"
   ]
  },
  {
   "cell_type": "markdown",
   "metadata": {},
   "source": [
    "# Using the `vegan` package\n",
    "\n",
    "We will now use the [`vegan`](https://cran.r-project.org/web/packages/vegan/index.html) package to calculate the diversity in the locations.\n",
    "\n",
    "## Transforming the data to `vegan` requirements"
   ]
  },
  {
   "cell_type": "code",
   "execution_count": 8,
   "metadata": {},
   "outputs": [],
   "source": [
    "dansDataSet_distribution_zero <- dansDataSet_distribution_matrix\n",
    "dansDataSet_distribution_zero[is.na(dansDataSet_distribution_zero)] <- 0\n",
    "dansDataSet_distribution_zero <- t(dansDataSet_distribution_zero[,2:length(dansDataSet_distribution_zero)])"
   ]
  },
  {
   "cell_type": "markdown",
   "metadata": {},
   "source": [
    "## Calculating diversity: **Shannon**, **Simpson** and **Inverted Simpson**.\n",
    "\n",
    "For each of these indexes, we are going to call the corresponding function from vegan, using the default parameters:\n",
    "\n",
    "Shannon or Shannon–Weaver (or Shannon–Wiener) index is defined as:\n",
    "\n",
    "$$H = -\\sum_{n=1}^{R} p_i ln_b(p_i) = 1$$\n",
    "\n",
    "where $p_i$ is the proportional abundance of species $i$ and $b$ is the base of the logarithm. It is most popular to use natural logarithms, but some argue for base $b = 2$.\n",
    "\n",
    "Both variants of Simpson's index are based on $D = \\sum_{n=1}^{R}p_i^2$. Choice simpson returns $1-D$ and invsimpson returns $\\frac{1}{D}$."
   ]
  },
  {
   "cell_type": "code",
   "execution_count": 9,
   "metadata": {},
   "outputs": [],
   "source": [
    "Hshannon <- diversity(dansDataSet_distribution_zero, index = \"shannon\", MARGIN = 1, base = exp(1))\n",
    "simp <- diversity(dansDataSet_distribution_zero, \"simpson\", MARGIN = 1)\n",
    "invsimp <- diversity(dansDataSet_distribution_zero, \"inv\", MARGIN = 1)"
   ]
  },
  {
   "cell_type": "markdown",
   "metadata": {},
   "source": [
    "## Calculating species richness\n",
    "\n",
    "The function `rarefy` gives the expected species richness in random subsamples of size sample from the community. The size of sample should be smaller than total community size, but the function will silently work for larger sample as well and return non-rarefied species richness (and standard error equal to 0). If sample is a vector, `rarefaction` is performed for each sample size separately. Rarefaction can be performed only with genuine counts of individuals. The function rarefy is based on Hurlbert's (1971) formulation, and the standard errors on Heck et al. (1975)."
   ]
  },
  {
   "cell_type": "code",
   "execution_count": 10,
   "metadata": {},
   "outputs": [
    {
     "name": "stderr",
     "output_type": "stream",
     "text": [
      "Warning message in rarefy(dansDataSet_distribution_zero, 2):\n",
      "\"Requested 'sample' was larger than smallest site maximum (1)\""
     ]
    }
   ],
   "source": [
    "r.2 <- rarefy(dansDataSet_distribution_zero, 2)"
   ]
  },
  {
   "cell_type": "markdown",
   "metadata": {},
   "source": [
    "## Calculating `fisher.alpha`\n",
    "\n",
    "This function estimates the $a$ parameter of Fisher's logarithmic series. The estimation is possible only for genuine counts of individuals. The function can optionally return standard errors of $a$. These should be regarded only as rough indicators of the accuracy: the confidence limits of $a$ are strongly non-symmetric and the standard errors cannot be used in Normal inference."
   ]
  },
  {
   "cell_type": "code",
   "execution_count": 11,
   "metadata": {},
   "outputs": [],
   "source": [
    "alpha <- fisher.alpha(dansDataSet_distribution_zero)"
   ]
  },
  {
   "cell_type": "markdown",
   "metadata": {},
   "source": [
    "## Richness and Evenness\n",
    "\n",
    "Species **richness** (S) is calculated by `specnumber` which finds the number of species. If MARGIN is set to 2, it finds frequencies of species. **Pielou's evenness** (J) is calculated by $\\frac{H_shannon}{log(S)}$."
   ]
  },
  {
   "cell_type": "code",
   "execution_count": 12,
   "metadata": {},
   "outputs": [],
   "source": [
    "S <- specnumber(dansDataSet_distribution_zero, MARGIN = 1) ## rowSums(BCI > 0) does the same...\n",
    "J <- Hshannon/log(S)"
   ]
  },
  {
   "cell_type": "markdown",
   "metadata": {},
   "source": [
    "In order to have all these indeces together, we will put them in a single data frame as follows:"
   ]
  },
  {
   "cell_type": "code",
   "execution_count": 13,
   "metadata": {},
   "outputs": [],
   "source": [
    "metrics <- data.frame(\n",
    "  H_Shannon = Hshannon,\n",
    "  H_Simp = simp,\n",
    "  H_Inv_Simp = invsimp,\n",
    "  rarefy = r.2,\n",
    "  a = alpha,\n",
    "  richness = S,\n",
    "  evenness = J\n",
    ")"
   ]
  },
  {
   "cell_type": "markdown",
   "metadata": {},
   "source": [
    "# Results\n",
    "\n",
    "Finally, let's also create some plots. First of all, let's create a plot based on our first subset, showing for each species and capture dates, the average age of the species captured.\n"
   ]
  },
  {
   "cell_type": "code",
   "execution_count": 14,
   "metadata": {},
   "outputs": [
    {
     "data": {},
     "metadata": {},
     "output_type": "display_data"
    },
    {
     "data": {
      "text/html": [
       "<strong>png:</strong> 2"
      ],
      "text/latex": [
       "\\textbf{png:} 2"
      ],
      "text/markdown": [
       "**png:** 2"
      ],
      "text/plain": [
       "png \n",
       "  2 "
      ]
     },
     "metadata": {},
     "output_type": "display_data"
    }
   ],
   "source": [
    "png(\"subset1a1.png\", width = 4000, height = 2000, res = 300, pointsize = 5)\n",
    "ggplot(data=dansDataSet_Castricum, aes(x=CatchDate, y=Species, color=count)) +\n",
    "  geom_point(aes(size=count))\n",
    "dev.off()"
   ]
  },
  {
   "cell_type": "markdown",
   "metadata": {},
   "source": [
    "![_First subset plot: points_](subset1a1.png)"
   ]
  },
  {
   "cell_type": "code",
   "execution_count": 15,
   "metadata": {},
   "outputs": [
    {
     "data": {},
     "metadata": {},
     "output_type": "display_data"
    },
    {
     "data": {
      "text/html": [
       "<strong>png:</strong> 2"
      ],
      "text/latex": [
       "\\textbf{png:} 2"
      ],
      "text/markdown": [
       "**png:** 2"
      ],
      "text/plain": [
       "png \n",
       "  2 "
      ]
     },
     "metadata": {},
     "output_type": "display_data"
    }
   ],
   "source": [
    "png(\"subset1a2.png\", width = 4000, height = 2000, res = 300, pointsize = 5)\n",
    "ggplot(data=dansDataSet_Castricum, aes(x=CatchDate, y=count, colour=Species)) +\n",
    "  geom_line()\n",
    "dev.off()"
   ]
  },
  {
   "cell_type": "markdown",
   "metadata": {},
   "source": [
    "![_First subset plot: lines_](subset1a2.png)"
   ]
  },
  {
   "cell_type": "markdown",
   "metadata": {},
   "source": [
    "We can do the same plots for the single species that we looked into earlier (Northern Lapwing in Castricum, Noord-Holland, NL)."
   ]
  },
  {
   "cell_type": "code",
   "execution_count": 16,
   "metadata": {},
   "outputs": [
    {
     "data": {},
     "metadata": {},
     "output_type": "display_data"
    },
    {
     "data": {
      "text/html": [
       "<strong>png:</strong> 2"
      ],
      "text/latex": [
       "\\textbf{png:} 2"
      ],
      "text/markdown": [
       "**png:** 2"
      ],
      "text/plain": [
       "png \n",
       "  2 "
      ]
     },
     "metadata": {},
     "output_type": "display_data"
    }
   ],
   "source": [
    "png(\"subset1b1.png\", width = 4000, height = 2000, res = 300, pointsize = 5)\n",
    "ggplot(data=dansDataSet_lapwing, aes(x=CatchDate, y=Species, color=count)) +\n",
    "  geom_point(aes(size=count))\n",
    "dev.off()"
   ]
  },
  {
   "cell_type": "markdown",
   "metadata": {},
   "source": [
    "![_First subset plot: Northern Lapwin points_](subset1b1.png)"
   ]
  },
  {
   "cell_type": "markdown",
   "metadata": {},
   "source": [
    "This is not really easy to interpret. However, we can now have a more interesting plot with the `lines` command, including a smoothing curve to show the overall trend:"
   ]
  },
  {
   "cell_type": "code",
   "execution_count": 17,
   "metadata": {},
   "outputs": [
    {
     "data": {},
     "metadata": {},
     "output_type": "display_data"
    },
    {
     "data": {
      "text/html": [
       "<strong>png:</strong> 2"
      ],
      "text/latex": [
       "\\textbf{png:} 2"
      ],
      "text/markdown": [
       "**png:** 2"
      ],
      "text/plain": [
       "png \n",
       "  2 "
      ]
     },
     "metadata": {},
     "output_type": "display_data"
    }
   ],
   "source": [
    "png(\"subset1b2.png\", width = 4000, height = 2000, res = 300, pointsize = 5)\n",
    "ggplot(data=dansDataSet_lapwing, aes(x=CatchDate, y=count, colour=Species)) +\n",
    "  geom_point(aes(x = CatchDate, y = count, colour = Species), size = 3) +\n",
    "  stat_smooth(aes(x = CatchDate, y = count), method = \"lm\", formula = y ~ poly(x, 3), se = FALSE)\n",
    "dev.off()"
   ]
  },
  {
   "cell_type": "markdown",
   "metadata": {},
   "source": [
    "![_First subset plot: Northern Lapwin lines](subset1b2.png)"
   ]
  },
  {
   "cell_type": "markdown",
   "metadata": {},
   "source": [
    "We can also create a plot based on the second subset. In this case, let's see how the distribution of species across the seven locations looks like."
   ]
  },
  {
   "cell_type": "code",
   "execution_count": 18,
   "metadata": {},
   "outputs": [
    {
     "name": "stderr",
     "output_type": "stream",
     "text": [
      "Warning message in grid.Call(C_textBounds, as.graphicsAnnot(x$label), x$x, x$y, :\n",
      "\"font family not found in Windows font database\"Warning message in grid.Call(C_textBounds, as.graphicsAnnot(x$label), x$x, x$y, :\n",
      "\"font family not found in Windows font database\"Warning message in grid.Call(C_textBounds, as.graphicsAnnot(x$label), x$x, x$y, :\n",
      "\"font family not found in Windows font database\"Warning message in grid.Call(C_textBounds, as.graphicsAnnot(x$label), x$x, x$y, :\n",
      "\"font family not found in Windows font database\"Warning message in grid.Call(C_textBounds, as.graphicsAnnot(x$label), x$x, x$y, :\n",
      "\"font family not found in Windows font database\"Warning message in grid.Call(C_textBounds, as.graphicsAnnot(x$label), x$x, x$y, :\n",
      "\"font family not found in Windows font database\"Warning message in grid.Call(C_textBounds, as.graphicsAnnot(x$label), x$x, x$y, :\n",
      "\"font family not found in Windows font database\"Warning message in grid.Call(C_textBounds, as.graphicsAnnot(x$label), x$x, x$y, :\n",
      "\"font family not found in Windows font database\"Warning message in grid.Call(C_textBounds, as.graphicsAnnot(x$label), x$x, x$y, :\n",
      "\"font family not found in Windows font database\"Warning message in grid.Call(C_textBounds, as.graphicsAnnot(x$label), x$x, x$y, :\n",
      "\"font family not found in Windows font database\"Warning message in grid.Call.graphics(C_text, as.graphicsAnnot(x$label), x$x, x$y, :\n",
      "\"font family not found in Windows font database\"Warning message in grid.Call.graphics(C_text, as.graphicsAnnot(x$label), x$x, x$y, :\n",
      "\"font family not found in Windows font database\"Warning message in grid.Call.graphics(C_text, as.graphicsAnnot(x$label), x$x, x$y, :\n",
      "\"font family not found in Windows font database\"Warning message in grid.Call.graphics(C_text, as.graphicsAnnot(x$label), x$x, x$y, :\n",
      "\"font family not found in Windows font database\"Warning message in grid.Call.graphics(C_text, as.graphicsAnnot(x$label), x$x, x$y, :\n",
      "\"font family not found in Windows font database\"Warning message in grid.Call.graphics(C_text, as.graphicsAnnot(x$label), x$x, x$y, :\n",
      "\"font family not found in Windows font database\"Warning message in grid.Call.graphics(C_text, as.graphicsAnnot(x$label), x$x, x$y, :\n",
      "\"font family not found in Windows font database\"Warning message in grid.Call.graphics(C_text, as.graphicsAnnot(x$label), x$x, x$y, :\n",
      "\"font family not found in Windows font database\"Warning message in grid.Call.graphics(C_text, as.graphicsAnnot(x$label), x$x, x$y, :\n",
      "\"font family not found in Windows font database\"Warning message in grid.Call.graphics(C_text, as.graphicsAnnot(x$label), x$x, x$y, :\n",
      "\"font family not found in Windows font database\"Warning message in grid.Call.graphics(C_text, as.graphicsAnnot(x$label), x$x, x$y, :\n",
      "\"font family not found in Windows font database\"Warning message in grid.Call.graphics(C_text, as.graphicsAnnot(x$label), x$x, x$y, :\n",
      "\"font family not found in Windows font database\"Warning message in grid.Call.graphics(C_text, as.graphicsAnnot(x$label), x$x, x$y, :\n",
      "\"font family not found in Windows font database\"Warning message in grid.Call.graphics(C_text, as.graphicsAnnot(x$label), x$x, x$y, :\n",
      "\"font family not found in Windows font database\"Warning message in grid.Call.graphics(C_text, as.graphicsAnnot(x$label), x$x, x$y, :\n",
      "\"font family not found in Windows font database\"Warning message in grid.Call.graphics(C_text, as.graphicsAnnot(x$label), x$x, x$y, :\n",
      "\"font family not found in Windows font database\"Warning message in grid.Call.graphics(C_text, as.graphicsAnnot(x$label), x$x, x$y, :\n",
      "\"font family not found in Windows font database\"Warning message in grid.Call.graphics(C_text, as.graphicsAnnot(x$label), x$x, x$y, :\n",
      "\"font family not found in Windows font database\"Warning message in grid.Call.graphics(C_text, as.graphicsAnnot(x$label), x$x, x$y, :\n",
      "\"font family not found in Windows font database\"Warning message in grid.Call.graphics(C_text, as.graphicsAnnot(x$label), x$x, x$y, :\n",
      "\"font family not found in Windows font database\"Warning message in grid.Call.graphics(C_text, as.graphicsAnnot(x$label), x$x, x$y, :\n",
      "\"font family not found in Windows font database\"Warning message in grid.Call.graphics(C_text, as.graphicsAnnot(x$label), x$x, x$y, :\n",
      "\"font family not found in Windows font database\"Warning message in grid.Call.graphics(C_text, as.graphicsAnnot(x$label), x$x, x$y, :\n",
      "\"font family not found in Windows font database\"Warning message in grid.Call.graphics(C_text, as.graphicsAnnot(x$label), x$x, x$y, :\n",
      "\"font family not found in Windows font database\"Warning message in grid.Call.graphics(C_text, as.graphicsAnnot(x$label), x$x, x$y, :\n",
      "\"font family not found in Windows font database\"Warning message in grid.Call.graphics(C_text, as.graphicsAnnot(x$label), x$x, x$y, :\n",
      "\"font family not found in Windows font database\"Warning message in grid.Call.graphics(C_text, as.graphicsAnnot(x$label), x$x, x$y, :\n",
      "\"font family not found in Windows font database\"Warning message in grid.Call.graphics(C_text, as.graphicsAnnot(x$label), x$x, x$y, :\n",
      "\"font family not found in Windows font database\"Warning message in grid.Call.graphics(C_text, as.graphicsAnnot(x$label), x$x, x$y, :\n",
      "\"font family not found in Windows font database\"Warning message in grid.Call.graphics(C_text, as.graphicsAnnot(x$label), x$x, x$y, :\n",
      "\"font family not found in Windows font database\"Warning message in grid.Call.graphics(C_text, as.graphicsAnnot(x$label), x$x, x$y, :\n",
      "\"font family not found in Windows font database\"Warning message in grid.Call.graphics(C_text, as.graphicsAnnot(x$label), x$x, x$y, :\n",
      "\"font family not found in Windows font database\"Warning message in grid.Call.graphics(C_text, as.graphicsAnnot(x$label), x$x, x$y, :\n",
      "\"font family not found in Windows font database\"Warning message in grid.Call.graphics(C_text, as.graphicsAnnot(x$label), x$x, x$y, :\n",
      "\"font family not found in Windows font database\"Warning message in grid.Call.graphics(C_text, as.graphicsAnnot(x$label), x$x, x$y, :\n",
      "\"font family not found in Windows font database\"Warning message in grid.Call.graphics(C_text, as.graphicsAnnot(x$label), x$x, x$y, :\n",
      "\"font family not found in Windows font database\"Warning message in grid.Call.graphics(C_text, as.graphicsAnnot(x$label), x$x, x$y, :\n",
      "\"font family not found in Windows font database\"Warning message in grid.Call.graphics(C_text, as.graphicsAnnot(x$label), x$x, x$y, :\n",
      "\"font family not found in Windows font database\"Warning message in grid.Call.graphics(C_text, as.graphicsAnnot(x$label), x$x, x$y, :\n",
      "\"font family not found in Windows font database\"Warning message in grid.Call.graphics(C_text, as.graphicsAnnot(x$label), x$x, x$y, :\n",
      "\"font family not found in Windows font database\"Warning message in grid.Call.graphics(C_text, as.graphicsAnnot(x$label), x$x, x$y, :\n",
      "\"font family not found in Windows font database\"Warning message in grid.Call.graphics(C_text, as.graphicsAnnot(x$label), x$x, x$y, :\n",
      "\"font family not found in Windows font database\"Warning message in grid.Call.graphics(C_text, as.graphicsAnnot(x$label), x$x, x$y, :\n",
      "\"font family not found in Windows font database\"Warning message in grid.Call.graphics(C_text, as.graphicsAnnot(x$label), x$x, x$y, :\n",
      "\"font family not found in Windows font database\"Warning message in grid.Call.graphics(C_text, as.graphicsAnnot(x$label), x$x, x$y, :\n",
      "\"font family not found in Windows font database\"Warning message in grid.Call.graphics(C_text, as.graphicsAnnot(x$label), x$x, x$y, :\n",
      "\"font family not found in Windows font database\"Warning message in grid.Call.graphics(C_text, as.graphicsAnnot(x$label), x$x, x$y, :\n",
      "\"font family not found in Windows font database\"Warning message in grid.Call.graphics(C_text, as.graphicsAnnot(x$label), x$x, x$y, :\n",
      "\"font family not found in Windows font database\"Warning message in grid.Call.graphics(C_text, as.graphicsAnnot(x$label), x$x, x$y, :\n",
      "\"font family not found in Windows font database\"Warning message in grid.Call.graphics(C_text, as.graphicsAnnot(x$label), x$x, x$y, :\n",
      "\"font family not found in Windows font database\"Warning message in grid.Call.graphics(C_text, as.graphicsAnnot(x$label), x$x, x$y, :\n",
      "\"font family not found in Windows font database\"Warning message in grid.Call.graphics(C_text, as.graphicsAnnot(x$label), x$x, x$y, :\n"
     ]
    },
    {
     "name": "stderr",
     "output_type": "stream",
     "text": [
      "\"font family not found in Windows font database\"Warning message in grid.Call.graphics(C_text, as.graphicsAnnot(x$label), x$x, x$y, :\n",
      "\"font family not found in Windows font database\"Warning message in grid.Call.graphics(C_text, as.graphicsAnnot(x$label), x$x, x$y, :\n",
      "\"font family not found in Windows font database\"Warning message in grid.Call.graphics(C_text, as.graphicsAnnot(x$label), x$x, x$y, :\n",
      "\"font family not found in Windows font database\"Warning message in grid.Call.graphics(C_text, as.graphicsAnnot(x$label), x$x, x$y, :\n",
      "\"font family not found in Windows font database\"Warning message in grid.Call.graphics(C_text, as.graphicsAnnot(x$label), x$x, x$y, :\n",
      "\"font family not found in Windows font database\"Warning message in grid.Call.graphics(C_text, as.graphicsAnnot(x$label), x$x, x$y, :\n",
      "\"font family not found in Windows font database\"Warning message in grid.Call.graphics(C_text, as.graphicsAnnot(x$label), x$x, x$y, :\n",
      "\"font family not found in Windows font database\"Warning message in grid.Call.graphics(C_text, as.graphicsAnnot(x$label), x$x, x$y, :\n",
      "\"font family not found in Windows font database\"Warning message in grid.Call.graphics(C_text, as.graphicsAnnot(x$label), x$x, x$y, :\n",
      "\"font family not found in Windows font database\"Warning message in grid.Call.graphics(C_text, as.graphicsAnnot(x$label), x$x, x$y, :\n",
      "\"font family not found in Windows font database\"Warning message in grid.Call.graphics(C_text, as.graphicsAnnot(x$label), x$x, x$y, :\n",
      "\"font family not found in Windows font database\"Warning message in grid.Call.graphics(C_text, as.graphicsAnnot(x$label), x$x, x$y, :\n",
      "\"font family not found in Windows font database\"Warning message in grid.Call.graphics(C_text, as.graphicsAnnot(x$label), x$x, x$y, :\n",
      "\"font family not found in Windows font database\"Warning message in grid.Call.graphics(C_text, as.graphicsAnnot(x$label), x$x, x$y, :\n",
      "\"font family not found in Windows font database\"Warning message in grid.Call.graphics(C_text, as.graphicsAnnot(x$label), x$x, x$y, :\n",
      "\"font family not found in Windows font database\"Warning message in grid.Call.graphics(C_text, as.graphicsAnnot(x$label), x$x, x$y, :\n",
      "\"font family not found in Windows font database\"Warning message in grid.Call.graphics(C_text, as.graphicsAnnot(x$label), x$x, x$y, :\n",
      "\"font family not found in Windows font database\"Warning message in grid.Call.graphics(C_text, as.graphicsAnnot(x$label), x$x, x$y, :\n",
      "\"font family not found in Windows font database\"Warning message in grid.Call.graphics(C_text, as.graphicsAnnot(x$label), x$x, x$y, :\n",
      "\"font family not found in Windows font database\"Warning message in grid.Call.graphics(C_text, as.graphicsAnnot(x$label), x$x, x$y, :\n",
      "\"font family not found in Windows font database\"Warning message in grid.Call.graphics(C_text, as.graphicsAnnot(x$label), x$x, x$y, :\n",
      "\"font family not found in Windows font database\"Warning message in grid.Call.graphics(C_text, as.graphicsAnnot(x$label), x$x, x$y, :\n",
      "\"font family not found in Windows font database\"Warning message in grid.Call.graphics(C_text, as.graphicsAnnot(x$label), x$x, x$y, :\n",
      "\"font family not found in Windows font database\"Warning message in grid.Call.graphics(C_text, as.graphicsAnnot(x$label), x$x, x$y, :\n",
      "\"font family not found in Windows font database\"Warning message in grid.Call.graphics(C_text, as.graphicsAnnot(x$label), x$x, x$y, :\n",
      "\"font family not found in Windows font database\"Warning message in grid.Call.graphics(C_text, as.graphicsAnnot(x$label), x$x, x$y, :\n",
      "\"font family not found in Windows font database\"Warning message in grid.Call.graphics(C_text, as.graphicsAnnot(x$label), x$x, x$y, :\n",
      "\"font family not found in Windows font database\"Warning message in grid.Call.graphics(C_text, as.graphicsAnnot(x$label), x$x, x$y, :\n",
      "\"font family not found in Windows font database\"Warning message in grid.Call.graphics(C_text, as.graphicsAnnot(x$label), x$x, x$y, :\n",
      "\"font family not found in Windows font database\"Warning message in grid.Call.graphics(C_text, as.graphicsAnnot(x$label), x$x, x$y, :\n",
      "\"font family not found in Windows font database\"Warning message in grid.Call.graphics(C_text, as.graphicsAnnot(x$label), x$x, x$y, :\n",
      "\"font family not found in Windows font database\"Warning message in grid.Call.graphics(C_text, as.graphicsAnnot(x$label), x$x, x$y, :\n",
      "\"font family not found in Windows font database\"Warning message in grid.Call.graphics(C_text, as.graphicsAnnot(x$label), x$x, x$y, :\n",
      "\"font family not found in Windows font database\"Warning message in grid.Call.graphics(C_text, as.graphicsAnnot(x$label), x$x, x$y, :\n",
      "\"font family not found in Windows font database\"Warning message in grid.Call.graphics(C_text, as.graphicsAnnot(x$label), x$x, x$y, :\n",
      "\"font family not found in Windows font database\"Warning message in grid.Call.graphics(C_text, as.graphicsAnnot(x$label), x$x, x$y, :\n",
      "\"font family not found in Windows font database\"Warning message in grid.Call.graphics(C_text, as.graphicsAnnot(x$label), x$x, x$y, :\n",
      "\"font family not found in Windows font database\"Warning message in grid.Call.graphics(C_text, as.graphicsAnnot(x$label), x$x, x$y, :\n",
      "\"font family not found in Windows font database\"Warning message in grid.Call.graphics(C_text, as.graphicsAnnot(x$label), x$x, x$y, :\n",
      "\"font family not found in Windows font database\"Warning message in grid.Call.graphics(C_text, as.graphicsAnnot(x$label), x$x, x$y, :\n",
      "\"font family not found in Windows font database\"Warning message in grid.Call.graphics(C_text, as.graphicsAnnot(x$label), x$x, x$y, :\n",
      "\"font family not found in Windows font database\"Warning message in grid.Call.graphics(C_text, as.graphicsAnnot(x$label), x$x, x$y, :\n",
      "\"font family not found in Windows font database\"Warning message in grid.Call.graphics(C_text, as.graphicsAnnot(x$label), x$x, x$y, :\n",
      "\"font family not found in Windows font database\"Warning message in grid.Call.graphics(C_text, as.graphicsAnnot(x$label), x$x, x$y, :\n",
      "\"font family not found in Windows font database\"Warning message in grid.Call.graphics(C_text, as.graphicsAnnot(x$label), x$x, x$y, :\n",
      "\"font family not found in Windows font database\"Warning message in grid.Call.graphics(C_text, as.graphicsAnnot(x$label), x$x, x$y, :\n",
      "\"font family not found in Windows font database\"Warning message in grid.Call.graphics(C_text, as.graphicsAnnot(x$label), x$x, x$y, :\n",
      "\"font family not found in Windows font database\"Warning message in grid.Call.graphics(C_text, as.graphicsAnnot(x$label), x$x, x$y, :\n",
      "\"font family not found in Windows font database\"Warning message in grid.Call.graphics(C_text, as.graphicsAnnot(x$label), x$x, x$y, :\n",
      "\"font family not found in Windows font database\"Warning message in grid.Call.graphics(C_text, as.graphicsAnnot(x$label), x$x, x$y, :\n",
      "\"font family not found in Windows font database\"Warning message in grid.Call.graphics(C_text, as.graphicsAnnot(x$label), x$x, x$y, :\n",
      "\"font family not found in Windows font database\"Warning message in grid.Call.graphics(C_text, as.graphicsAnnot(x$label), x$x, x$y, :\n",
      "\"font family not found in Windows font database\"Warning message in grid.Call.graphics(C_text, as.graphicsAnnot(x$label), x$x, x$y, :\n",
      "\"font family not found in Windows font database\"Warning message in grid.Call.graphics(C_text, as.graphicsAnnot(x$label), x$x, x$y, :\n",
      "\"font family not found in Windows font database\"Warning message in grid.Call.graphics(C_text, as.graphicsAnnot(x$label), x$x, x$y, :\n",
      "\"font family not found in Windows font database\"Warning message in grid.Call.graphics(C_text, as.graphicsAnnot(x$label), x$x, x$y, :\n",
      "\"font family not found in Windows font database\"Warning message in grid.Call.graphics(C_text, as.graphicsAnnot(x$label), x$x, x$y, :\n",
      "\"font family not found in Windows font database\"Warning message in grid.Call.graphics(C_text, as.graphicsAnnot(x$label), x$x, x$y, :\n",
      "\"font family not found in Windows font database\"Warning message in grid.Call.graphics(C_text, as.graphicsAnnot(x$label), x$x, x$y, :\n",
      "\"font family not found in Windows font database\"Warning message in grid.Call.graphics(C_text, as.graphicsAnnot(x$label), x$x, x$y, :\n",
      "\"font family not found in Windows font database\"Warning message in grid.Call.graphics(C_text, as.graphicsAnnot(x$label), x$x, x$y, :\n",
      "\"font family not found in Windows font database\"Warning message in grid.Call.graphics(C_text, as.graphicsAnnot(x$label), x$x, x$y, :\n"
     ]
    },
    {
     "name": "stderr",
     "output_type": "stream",
     "text": [
      "\"font family not found in Windows font database\"Warning message in grid.Call.graphics(C_text, as.graphicsAnnot(x$label), x$x, x$y, :\n",
      "\"font family not found in Windows font database\"Warning message in grid.Call.graphics(C_text, as.graphicsAnnot(x$label), x$x, x$y, :\n",
      "\"font family not found in Windows font database\"Warning message in grid.Call.graphics(C_text, as.graphicsAnnot(x$label), x$x, x$y, :\n",
      "\"font family not found in Windows font database\"Warning message in grid.Call.graphics(C_text, as.graphicsAnnot(x$label), x$x, x$y, :\n",
      "\"font family not found in Windows font database\"Warning message in grid.Call.graphics(C_text, as.graphicsAnnot(x$label), x$x, x$y, :\n",
      "\"font family not found in Windows font database\"Warning message in grid.Call.graphics(C_text, as.graphicsAnnot(x$label), x$x, x$y, :\n",
      "\"font family not found in Windows font database\"Warning message in grid.Call.graphics(C_text, as.graphicsAnnot(x$label), x$x, x$y, :\n",
      "\"font family not found in Windows font database\"Warning message in grid.Call.graphics(C_text, as.graphicsAnnot(x$label), x$x, x$y, :\n",
      "\"font family not found in Windows font database\"Warning message in grid.Call.graphics(C_text, as.graphicsAnnot(x$label), x$x, x$y, :\n",
      "\"font family not found in Windows font database\"Warning message in grid.Call.graphics(C_text, as.graphicsAnnot(x$label), x$x, x$y, :\n",
      "\"font family not found in Windows font database\"Warning message in grid.Call.graphics(C_text, as.graphicsAnnot(x$label), x$x, x$y, :\n",
      "\"font family not found in Windows font database\"Warning message in grid.Call.graphics(C_text, as.graphicsAnnot(x$label), x$x, x$y, :\n",
      "\"font family not found in Windows font database\"Warning message in grid.Call.graphics(C_text, as.graphicsAnnot(x$label), x$x, x$y, :\n",
      "\"font family not found in Windows font database\"Warning message in grid.Call.graphics(C_text, as.graphicsAnnot(x$label), x$x, x$y, :\n",
      "\"font family not found in Windows font database\"Warning message in grid.Call.graphics(C_text, as.graphicsAnnot(x$label), x$x, x$y, :\n",
      "\"font family not found in Windows font database\"Warning message in grid.Call.graphics(C_text, as.graphicsAnnot(x$label), x$x, x$y, :\n",
      "\"font family not found in Windows font database\"Warning message in grid.Call.graphics(C_text, as.graphicsAnnot(x$label), x$x, x$y, :\n",
      "\"font family not found in Windows font database\"Warning message in grid.Call.graphics(C_text, as.graphicsAnnot(x$label), x$x, x$y, :\n",
      "\"font family not found in Windows font database\"Warning message in grid.Call.graphics(C_text, as.graphicsAnnot(x$label), x$x, x$y, :\n",
      "\"font family not found in Windows font database\"Warning message in grid.Call.graphics(C_text, as.graphicsAnnot(x$label), x$x, x$y, :\n",
      "\"font family not found in Windows font database\"Warning message in grid.Call.graphics(C_text, as.graphicsAnnot(x$label), x$x, x$y, :\n",
      "\"font family not found in Windows font database\"Warning message in grid.Call.graphics(C_text, as.graphicsAnnot(x$label), x$x, x$y, :\n",
      "\"font family not found in Windows font database\"Warning message in grid.Call.graphics(C_text, as.graphicsAnnot(x$label), x$x, x$y, :\n",
      "\"font family not found in Windows font database\"Warning message in grid.Call.graphics(C_text, as.graphicsAnnot(x$label), x$x, x$y, :\n",
      "\"font family not found in Windows font database\"Warning message in grid.Call.graphics(C_text, as.graphicsAnnot(x$label), x$x, x$y, :\n",
      "\"font family not found in Windows font database\"Warning message in grid.Call.graphics(C_text, as.graphicsAnnot(x$label), x$x, x$y, :\n",
      "\"font family not found in Windows font database\"Warning message in grid.Call.graphics(C_text, as.graphicsAnnot(x$label), x$x, x$y, :\n",
      "\"font family not found in Windows font database\"Warning message in grid.Call.graphics(C_text, as.graphicsAnnot(x$label), x$x, x$y, :\n",
      "\"font family not found in Windows font database\"Warning message in grid.Call.graphics(C_text, as.graphicsAnnot(x$label), x$x, x$y, :\n",
      "\"font family not found in Windows font database\"Warning message in grid.Call.graphics(C_text, as.graphicsAnnot(x$label), x$x, x$y, :\n",
      "\"font family not found in Windows font database\"Warning message in grid.Call.graphics(C_text, as.graphicsAnnot(x$label), x$x, x$y, :\n",
      "\"font family not found in Windows font database\"Warning message in grid.Call.graphics(C_text, as.graphicsAnnot(x$label), x$x, x$y, :\n",
      "\"font family not found in Windows font database\"Warning message in grid.Call.graphics(C_text, as.graphicsAnnot(x$label), x$x, x$y, :\n",
      "\"font family not found in Windows font database\"Warning message in grid.Call.graphics(C_text, as.graphicsAnnot(x$label), x$x, x$y, :\n",
      "\"font family not found in Windows font database\"Warning message in grid.Call.graphics(C_text, as.graphicsAnnot(x$label), x$x, x$y, :\n",
      "\"font family not found in Windows font database\"Warning message in grid.Call.graphics(C_text, as.graphicsAnnot(x$label), x$x, x$y, :\n",
      "\"font family not found in Windows font database\"Warning message in grid.Call.graphics(C_text, as.graphicsAnnot(x$label), x$x, x$y, :\n",
      "\"font family not found in Windows font database\"Warning message in grid.Call.graphics(C_text, as.graphicsAnnot(x$label), x$x, x$y, :\n",
      "\"font family not found in Windows font database\"Warning message in grid.Call.graphics(C_text, as.graphicsAnnot(x$label), x$x, x$y, :\n",
      "\"font family not found in Windows font database\"Warning message in grid.Call.graphics(C_text, as.graphicsAnnot(x$label), x$x, x$y, :\n",
      "\"font family not found in Windows font database\"Warning message in grid.Call.graphics(C_text, as.graphicsAnnot(x$label), x$x, x$y, :\n",
      "\"font family not found in Windows font database\"Warning message in grid.Call.graphics(C_text, as.graphicsAnnot(x$label), x$x, x$y, :\n",
      "\"font family not found in Windows font database\"Warning message in grid.Call.graphics(C_text, as.graphicsAnnot(x$label), x$x, x$y, :\n",
      "\"font family not found in Windows font database\"Warning message in grid.Call.graphics(C_text, as.graphicsAnnot(x$label), x$x, x$y, :\n",
      "\"font family not found in Windows font database\"Warning message in grid.Call.graphics(C_text, as.graphicsAnnot(x$label), x$x, x$y, :\n",
      "\"font family not found in Windows font database\"Warning message in grid.Call.graphics(C_text, as.graphicsAnnot(x$label), x$x, x$y, :\n",
      "\"font family not found in Windows font database\"Warning message in grid.Call.graphics(C_text, as.graphicsAnnot(x$label), x$x, x$y, :\n",
      "\"font family not found in Windows font database\"Warning message in grid.Call.graphics(C_text, as.graphicsAnnot(x$label), x$x, x$y, :\n",
      "\"font family not found in Windows font database\"Warning message in grid.Call.graphics(C_text, as.graphicsAnnot(x$label), x$x, x$y, :\n",
      "\"font family not found in Windows font database\"Warning message in grid.Call.graphics(C_text, as.graphicsAnnot(x$label), x$x, x$y, :\n",
      "\"font family not found in Windows font database\"Warning message in grid.Call.graphics(C_text, as.graphicsAnnot(x$label), x$x, x$y, :\n",
      "\"font family not found in Windows font database\"Warning message in grid.Call.graphics(C_text, as.graphicsAnnot(x$label), x$x, x$y, :\n",
      "\"font family not found in Windows font database\"Warning message in grid.Call.graphics(C_text, as.graphicsAnnot(x$label), x$x, x$y, :\n",
      "\"font family not found in Windows font database\"Warning message in grid.Call.graphics(C_text, as.graphicsAnnot(x$label), x$x, x$y, :\n",
      "\"font family not found in Windows font database\"Warning message in grid.Call.graphics(C_text, as.graphicsAnnot(x$label), x$x, x$y, :\n",
      "\"font family not found in Windows font database\"Warning message in grid.Call.graphics(C_text, as.graphicsAnnot(x$label), x$x, x$y, :\n",
      "\"font family not found in Windows font database\"Warning message in grid.Call.graphics(C_text, as.graphicsAnnot(x$label), x$x, x$y, :\n",
      "\"font family not found in Windows font database\"Warning message in grid.Call.graphics(C_text, as.graphicsAnnot(x$label), x$x, x$y, :\n",
      "\"font family not found in Windows font database\"Warning message in grid.Call.graphics(C_text, as.graphicsAnnot(x$label), x$x, x$y, :\n",
      "\"font family not found in Windows font database\"Warning message in grid.Call.graphics(C_text, as.graphicsAnnot(x$label), x$x, x$y, :\n",
      "\"font family not found in Windows font database\"Warning message in grid.Call.graphics(C_text, as.graphicsAnnot(x$label), x$x, x$y, :\n",
      "\"font family not found in Windows font database\"Warning message in grid.Call.graphics(C_text, as.graphicsAnnot(x$label), x$x, x$y, :\n"
     ]
    },
    {
     "name": "stderr",
     "output_type": "stream",
     "text": [
      "\"font family not found in Windows font database\"Warning message in grid.Call.graphics(C_text, as.graphicsAnnot(x$label), x$x, x$y, :\n",
      "\"font family not found in Windows font database\"Warning message in grid.Call.graphics(C_text, as.graphicsAnnot(x$label), x$x, x$y, :\n",
      "\"font family not found in Windows font database\"Warning message in grid.Call.graphics(C_text, as.graphicsAnnot(x$label), x$x, x$y, :\n",
      "\"font family not found in Windows font database\"Warning message in grid.Call.graphics(C_text, as.graphicsAnnot(x$label), x$x, x$y, :\n",
      "\"font family not found in Windows font database\"Warning message in grid.Call.graphics(C_text, as.graphicsAnnot(x$label), x$x, x$y, :\n",
      "\"font family not found in Windows font database\"Warning message in grid.Call.graphics(C_text, as.graphicsAnnot(x$label), x$x, x$y, :\n",
      "\"font family not found in Windows font database\"Warning message in grid.Call.graphics(C_text, as.graphicsAnnot(x$label), x$x, x$y, :\n",
      "\"font family not found in Windows font database\"Warning message in grid.Call.graphics(C_text, as.graphicsAnnot(x$label), x$x, x$y, :\n",
      "\"font family not found in Windows font database\"Warning message in grid.Call.graphics(C_text, as.graphicsAnnot(x$label), x$x, x$y, :\n",
      "\"font family not found in Windows font database\"Warning message in grid.Call.graphics(C_text, as.graphicsAnnot(x$label), x$x, x$y, :\n",
      "\"font family not found in Windows font database\"Warning message in grid.Call.graphics(C_text, as.graphicsAnnot(x$label), x$x, x$y, :\n",
      "\"font family not found in Windows font database\"Warning message in grid.Call.graphics(C_text, as.graphicsAnnot(x$label), x$x, x$y, :\n",
      "\"font family not found in Windows font database\"Warning message in grid.Call.graphics(C_text, as.graphicsAnnot(x$label), x$x, x$y, :\n",
      "\"font family not found in Windows font database\"Warning message in grid.Call.graphics(C_text, as.graphicsAnnot(x$label), x$x, x$y, :\n",
      "\"font family not found in Windows font database\"Warning message in grid.Call.graphics(C_text, as.graphicsAnnot(x$label), x$x, x$y, :\n",
      "\"font family not found in Windows font database\"Warning message in grid.Call.graphics(C_text, as.graphicsAnnot(x$label), x$x, x$y, :\n",
      "\"font family not found in Windows font database\"Warning message in grid.Call.graphics(C_text, as.graphicsAnnot(x$label), x$x, x$y, :\n",
      "\"font family not found in Windows font database\"Warning message in grid.Call.graphics(C_text, as.graphicsAnnot(x$label), x$x, x$y, :\n",
      "\"font family not found in Windows font database\"Warning message in grid.Call.graphics(C_text, as.graphicsAnnot(x$label), x$x, x$y, :\n",
      "\"font family not found in Windows font database\"Warning message in grid.Call.graphics(C_text, as.graphicsAnnot(x$label), x$x, x$y, :\n",
      "\"font family not found in Windows font database\"Warning message in grid.Call.graphics(C_text, as.graphicsAnnot(x$label), x$x, x$y, :\n",
      "\"font family not found in Windows font database\"Warning message in grid.Call.graphics(C_text, as.graphicsAnnot(x$label), x$x, x$y, :\n",
      "\"font family not found in Windows font database\"Warning message in grid.Call.graphics(C_text, as.graphicsAnnot(x$label), x$x, x$y, :\n",
      "\"font family not found in Windows font database\"Warning message in grid.Call.graphics(C_text, as.graphicsAnnot(x$label), x$x, x$y, :\n",
      "\"font family not found in Windows font database\"Warning message in grid.Call.graphics(C_text, as.graphicsAnnot(x$label), x$x, x$y, :\n",
      "\"font family not found in Windows font database\"Warning message in grid.Call.graphics(C_text, as.graphicsAnnot(x$label), x$x, x$y, :\n",
      "\"font family not found in Windows font database\"Warning message in grid.Call.graphics(C_text, as.graphicsAnnot(x$label), x$x, x$y, :\n",
      "\"font family not found in Windows font database\"Warning message in grid.Call.graphics(C_text, as.graphicsAnnot(x$label), x$x, x$y, :\n",
      "\"font family not found in Windows font database\"Warning message in grid.Call.graphics(C_text, as.graphicsAnnot(x$label), x$x, x$y, :\n",
      "\"font family not found in Windows font database\"Warning message in grid.Call.graphics(C_text, as.graphicsAnnot(x$label), x$x, x$y, :\n",
      "\"font family not found in Windows font database\"Warning message in grid.Call.graphics(C_text, as.graphicsAnnot(x$label), x$x, x$y, :\n",
      "\"font family not found in Windows font database\"Warning message in grid.Call.graphics(C_text, as.graphicsAnnot(x$label), x$x, x$y, :\n",
      "\"font family not found in Windows font database\"Warning message in grid.Call.graphics(C_text, as.graphicsAnnot(x$label), x$x, x$y, :\n",
      "\"font family not found in Windows font database\"Warning message in grid.Call.graphics(C_text, as.graphicsAnnot(x$label), x$x, x$y, :\n",
      "\"font family not found in Windows font database\"Warning message in grid.Call.graphics(C_text, as.graphicsAnnot(x$label), x$x, x$y, :\n",
      "\"font family not found in Windows font database\"Warning message in grid.Call.graphics(C_text, as.graphicsAnnot(x$label), x$x, x$y, :\n",
      "\"font family not found in Windows font database\"Warning message in grid.Call.graphics(C_text, as.graphicsAnnot(x$label), x$x, x$y, :\n",
      "\"font family not found in Windows font database\"Warning message in grid.Call.graphics(C_text, as.graphicsAnnot(x$label), x$x, x$y, :\n",
      "\"font family not found in Windows font database\"Warning message in grid.Call.graphics(C_text, as.graphicsAnnot(x$label), x$x, x$y, :\n",
      "\"font family not found in Windows font database\"Warning message in grid.Call.graphics(C_text, as.graphicsAnnot(x$label), x$x, x$y, :\n",
      "\"font family not found in Windows font database\"Warning message in grid.Call.graphics(C_text, as.graphicsAnnot(x$label), x$x, x$y, :\n",
      "\"font family not found in Windows font database\"Warning message in grid.Call.graphics(C_text, as.graphicsAnnot(x$label), x$x, x$y, :\n",
      "\"font family not found in Windows font database\"Warning message in grid.Call.graphics(C_text, as.graphicsAnnot(x$label), x$x, x$y, :\n",
      "\"font family not found in Windows font database\"Warning message in grid.Call.graphics(C_text, as.graphicsAnnot(x$label), x$x, x$y, :\n",
      "\"font family not found in Windows font database\"Warning message in grid.Call.graphics(C_text, as.graphicsAnnot(x$label), x$x, x$y, :\n",
      "\"font family not found in Windows font database\"Warning message in grid.Call.graphics(C_text, as.graphicsAnnot(x$label), x$x, x$y, :\n",
      "\"font family not found in Windows font database\"Warning message in grid.Call.graphics(C_text, as.graphicsAnnot(x$label), x$x, x$y, :\n",
      "\"font family not found in Windows font database\"Warning message in grid.Call.graphics(C_text, as.graphicsAnnot(x$label), x$x, x$y, :\n",
      "\"font family not found in Windows font database\"Warning message in grid.Call.graphics(C_text, as.graphicsAnnot(x$label), x$x, x$y, :\n",
      "\"font family not found in Windows font database\"Warning message in grid.Call.graphics(C_text, as.graphicsAnnot(x$label), x$x, x$y, :\n",
      "\"font family not found in Windows font database\"Warning message in grid.Call.graphics(C_text, as.graphicsAnnot(x$label), x$x, x$y, :\n",
      "\"font family not found in Windows font database\"Warning message in grid.Call.graphics(C_text, as.graphicsAnnot(x$label), x$x, x$y, :\n",
      "\"font family not found in Windows font database\"Warning message in grid.Call.graphics(C_text, as.graphicsAnnot(x$label), x$x, x$y, :\n",
      "\"font family not found in Windows font database\"Warning message in grid.Call.graphics(C_text, as.graphicsAnnot(x$label), x$x, x$y, :\n",
      "\"font family not found in Windows font database\"Warning message in grid.Call.graphics(C_text, as.graphicsAnnot(x$label), x$x, x$y, :\n",
      "\"font family not found in Windows font database\"Warning message in grid.Call.graphics(C_text, as.graphicsAnnot(x$label), x$x, x$y, :\n",
      "\"font family not found in Windows font database\"Warning message in grid.Call.graphics(C_text, as.graphicsAnnot(x$label), x$x, x$y, :\n",
      "\"font family not found in Windows font database\"Warning message in grid.Call.graphics(C_text, as.graphicsAnnot(x$label), x$x, x$y, :\n",
      "\"font family not found in Windows font database\"Warning message in grid.Call.graphics(C_text, as.graphicsAnnot(x$label), x$x, x$y, :\n",
      "\"font family not found in Windows font database\"Warning message in grid.Call.graphics(C_text, as.graphicsAnnot(x$label), x$x, x$y, :\n",
      "\"font family not found in Windows font database\"Warning message in grid.Call.graphics(C_text, as.graphicsAnnot(x$label), x$x, x$y, :\n",
      "\"font family not found in Windows font database\"Warning message in grid.Call.graphics(C_text, as.graphicsAnnot(x$label), x$x, x$y, :\n"
     ]
    },
    {
     "name": "stderr",
     "output_type": "stream",
     "text": [
      "\"font family not found in Windows font database\"Warning message in grid.Call.graphics(C_text, as.graphicsAnnot(x$label), x$x, x$y, :\n",
      "\"font family not found in Windows font database\"Warning message in grid.Call.graphics(C_text, as.graphicsAnnot(x$label), x$x, x$y, :\n",
      "\"font family not found in Windows font database\"Warning message in grid.Call.graphics(C_text, as.graphicsAnnot(x$label), x$x, x$y, :\n",
      "\"font family not found in Windows font database\"Warning message in grid.Call.graphics(C_text, as.graphicsAnnot(x$label), x$x, x$y, :\n",
      "\"font family not found in Windows font database\"Warning message in grid.Call.graphics(C_text, as.graphicsAnnot(x$label), x$x, x$y, :\n",
      "\"font family not found in Windows font database\"Warning message in grid.Call.graphics(C_text, as.graphicsAnnot(x$label), x$x, x$y, :\n",
      "\"font family not found in Windows font database\"Warning message in grid.Call.graphics(C_text, as.graphicsAnnot(x$label), x$x, x$y, :\n",
      "\"font family not found in Windows font database\"Warning message in grid.Call.graphics(C_text, as.graphicsAnnot(x$label), x$x, x$y, :\n",
      "\"font family not found in Windows font database\"Warning message in grid.Call.graphics(C_text, as.graphicsAnnot(x$label), x$x, x$y, :\n",
      "\"font family not found in Windows font database\"Warning message in grid.Call.graphics(C_text, as.graphicsAnnot(x$label), x$x, x$y, :\n",
      "\"font family not found in Windows font database\"Warning message in grid.Call.graphics(C_text, as.graphicsAnnot(x$label), x$x, x$y, :\n",
      "\"font family not found in Windows font database\"Warning message in grid.Call.graphics(C_text, as.graphicsAnnot(x$label), x$x, x$y, :\n",
      "\"font family not found in Windows font database\"Warning message in grid.Call.graphics(C_text, as.graphicsAnnot(x$label), x$x, x$y, :\n",
      "\"font family not found in Windows font database\"Warning message in grid.Call.graphics(C_text, as.graphicsAnnot(x$label), x$x, x$y, :\n",
      "\"font family not found in Windows font database\"Warning message in grid.Call.graphics(C_text, as.graphicsAnnot(x$label), x$x, x$y, :\n",
      "\"font family not found in Windows font database\"Warning message in grid.Call.graphics(C_text, as.graphicsAnnot(x$label), x$x, x$y, :\n",
      "\"font family not found in Windows font database\"Warning message in grid.Call.graphics(C_text, as.graphicsAnnot(x$label), x$x, x$y, :\n",
      "\"font family not found in Windows font database\"Warning message in grid.Call.graphics(C_text, as.graphicsAnnot(x$label), x$x, x$y, :\n",
      "\"font family not found in Windows font database\"Warning message in grid.Call.graphics(C_text, as.graphicsAnnot(x$label), x$x, x$y, :\n",
      "\"font family not found in Windows font database\"Warning message in grid.Call.graphics(C_text, as.graphicsAnnot(x$label), x$x, x$y, :\n",
      "\"font family not found in Windows font database\"Warning message in grid.Call.graphics(C_text, as.graphicsAnnot(x$label), x$x, x$y, :\n",
      "\"font family not found in Windows font database\"Warning message in grid.Call(C_textBounds, as.graphicsAnnot(x$label), x$x, x$y, :\n",
      "\"font family not found in Windows font database\"Warning message in grid.Call.graphics(C_text, as.graphicsAnnot(x$label), x$x, x$y, :\n",
      "\"font family not found in Windows font database\"Warning message in grid.Call.graphics(C_text, as.graphicsAnnot(x$label), x$x, x$y, :\n",
      "\"font family not found in Windows font database\"Warning message in grid.Call.graphics(C_text, as.graphicsAnnot(x$label), x$x, x$y, :\n",
      "\"font family not found in Windows font database\"Warning message in grid.Call.graphics(C_text, as.graphicsAnnot(x$label), x$x, x$y, :\n",
      "\"font family not found in Windows font database\"Warning message in grid.Call.graphics(C_text, as.graphicsAnnot(x$label), x$x, x$y, :\n",
      "\"font family not found in Windows font database\""
     ]
    },
    {
     "data": {},
     "metadata": {},
     "output_type": "display_data"
    },
    {
     "data": {
      "text/html": [
       "<strong>png:</strong> 2"
      ],
      "text/latex": [
       "\\textbf{png:} 2"
      ],
      "text/markdown": [
       "**png:** 2"
      ],
      "text/plain": [
       "png \n",
       "  2 "
      ]
     },
     "metadata": {},
     "output_type": "display_data"
    }
   ],
   "source": [
    "lvls <- unique(as.vector(dansDataSet_distribution$Location))\n",
    "png(\"subset2a.png\", width = 4000, height = 2000, res = 300, pointsize = 5)\n",
    "ggplot(data=dansDataSet_distribution, aes(x=Species, y=Location, color=Species)) + \n",
    "  geom_point(aes(size=count)) +\n",
    "  theme(text=element_text(family=\"Arial\", size=12*(81/169)),\n",
    "        axis.text.x = element_text(angle = 90, hjust = 1, vjust=0.3)) +\n",
    "    scale_y_discrete(breaks=lvls[seq(1,length(lvls),by=10)]) #scale_y_discrete(labels = abbreviate)\n",
    "dev.off()"
   ]
  },
  {
   "cell_type": "markdown",
   "metadata": {},
   "source": [
    "![_Second subset plot_](subset2a.png)"
   ]
  },
  {
   "cell_type": "markdown",
   "metadata": {},
   "source": [
    "This is a very \"dense\" figure, so let's use the filtered version to see the most highly populated species."
   ]
  },
  {
   "cell_type": "code",
   "execution_count": 19,
   "metadata": {},
   "outputs": [
    {
     "name": "stderr",
     "output_type": "stream",
     "text": [
      "Warning message in grid.Call(C_textBounds, as.graphicsAnnot(x$label), x$x, x$y, :\n",
      "\"font family not found in Windows font database\"Warning message in grid.Call(C_textBounds, as.graphicsAnnot(x$label), x$x, x$y, :\n",
      "\"font family not found in Windows font database\"Warning message in grid.Call(C_textBounds, as.graphicsAnnot(x$label), x$x, x$y, :\n",
      "\"font family not found in Windows font database\"Warning message in grid.Call(C_textBounds, as.graphicsAnnot(x$label), x$x, x$y, :\n",
      "\"font family not found in Windows font database\"Warning message in grid.Call(C_textBounds, as.graphicsAnnot(x$label), x$x, x$y, :\n",
      "\"font family not found in Windows font database\"Warning message in grid.Call(C_textBounds, as.graphicsAnnot(x$label), x$x, x$y, :\n",
      "\"font family not found in Windows font database\"Warning message in grid.Call(C_textBounds, as.graphicsAnnot(x$label), x$x, x$y, :\n",
      "\"font family not found in Windows font database\"Warning message in grid.Call(C_textBounds, as.graphicsAnnot(x$label), x$x, x$y, :\n",
      "\"font family not found in Windows font database\"Warning message in grid.Call(C_textBounds, as.graphicsAnnot(x$label), x$x, x$y, :\n",
      "\"font family not found in Windows font database\"Warning message in grid.Call(C_textBounds, as.graphicsAnnot(x$label), x$x, x$y, :\n",
      "\"font family not found in Windows font database\"Warning message in grid.Call.graphics(C_text, as.graphicsAnnot(x$label), x$x, x$y, :\n",
      "\"font family not found in Windows font database\"Warning message in grid.Call.graphics(C_text, as.graphicsAnnot(x$label), x$x, x$y, :\n",
      "\"font family not found in Windows font database\"Warning message in grid.Call.graphics(C_text, as.graphicsAnnot(x$label), x$x, x$y, :\n",
      "\"font family not found in Windows font database\"Warning message in grid.Call.graphics(C_text, as.graphicsAnnot(x$label), x$x, x$y, :\n",
      "\"font family not found in Windows font database\"Warning message in grid.Call.graphics(C_text, as.graphicsAnnot(x$label), x$x, x$y, :\n",
      "\"font family not found in Windows font database\"Warning message in grid.Call.graphics(C_text, as.graphicsAnnot(x$label), x$x, x$y, :\n",
      "\"font family not found in Windows font database\"Warning message in grid.Call.graphics(C_text, as.graphicsAnnot(x$label), x$x, x$y, :\n",
      "\"font family not found in Windows font database\"Warning message in grid.Call.graphics(C_text, as.graphicsAnnot(x$label), x$x, x$y, :\n",
      "\"font family not found in Windows font database\"Warning message in grid.Call.graphics(C_text, as.graphicsAnnot(x$label), x$x, x$y, :\n",
      "\"font family not found in Windows font database\"Warning message in grid.Call.graphics(C_text, as.graphicsAnnot(x$label), x$x, x$y, :\n",
      "\"font family not found in Windows font database\"Warning message in grid.Call.graphics(C_text, as.graphicsAnnot(x$label), x$x, x$y, :\n",
      "\"font family not found in Windows font database\"Warning message in grid.Call.graphics(C_text, as.graphicsAnnot(x$label), x$x, x$y, :\n",
      "\"font family not found in Windows font database\"Warning message in grid.Call.graphics(C_text, as.graphicsAnnot(x$label), x$x, x$y, :\n",
      "\"font family not found in Windows font database\"Warning message in grid.Call.graphics(C_text, as.graphicsAnnot(x$label), x$x, x$y, :\n",
      "\"font family not found in Windows font database\"Warning message in grid.Call.graphics(C_text, as.graphicsAnnot(x$label), x$x, x$y, :\n",
      "\"font family not found in Windows font database\"Warning message in grid.Call.graphics(C_text, as.graphicsAnnot(x$label), x$x, x$y, :\n",
      "\"font family not found in Windows font database\"Warning message in grid.Call.graphics(C_text, as.graphicsAnnot(x$label), x$x, x$y, :\n",
      "\"font family not found in Windows font database\"Warning message in grid.Call.graphics(C_text, as.graphicsAnnot(x$label), x$x, x$y, :\n",
      "\"font family not found in Windows font database\"Warning message in grid.Call.graphics(C_text, as.graphicsAnnot(x$label), x$x, x$y, :\n",
      "\"font family not found in Windows font database\"Warning message in grid.Call.graphics(C_text, as.graphicsAnnot(x$label), x$x, x$y, :\n",
      "\"font family not found in Windows font database\"Warning message in grid.Call.graphics(C_text, as.graphicsAnnot(x$label), x$x, x$y, :\n",
      "\"font family not found in Windows font database\"Warning message in grid.Call.graphics(C_text, as.graphicsAnnot(x$label), x$x, x$y, :\n",
      "\"font family not found in Windows font database\"Warning message in grid.Call.graphics(C_text, as.graphicsAnnot(x$label), x$x, x$y, :\n",
      "\"font family not found in Windows font database\"Warning message in grid.Call.graphics(C_text, as.graphicsAnnot(x$label), x$x, x$y, :\n",
      "\"font family not found in Windows font database\"Warning message in grid.Call.graphics(C_text, as.graphicsAnnot(x$label), x$x, x$y, :\n",
      "\"font family not found in Windows font database\"Warning message in grid.Call.graphics(C_text, as.graphicsAnnot(x$label), x$x, x$y, :\n",
      "\"font family not found in Windows font database\"Warning message in grid.Call.graphics(C_text, as.graphicsAnnot(x$label), x$x, x$y, :\n",
      "\"font family not found in Windows font database\"Warning message in grid.Call.graphics(C_text, as.graphicsAnnot(x$label), x$x, x$y, :\n",
      "\"font family not found in Windows font database\"Warning message in grid.Call.graphics(C_text, as.graphicsAnnot(x$label), x$x, x$y, :\n",
      "\"font family not found in Windows font database\"Warning message in grid.Call(C_textBounds, as.graphicsAnnot(x$label), x$x, x$y, :\n",
      "\"font family not found in Windows font database\"Warning message in grid.Call.graphics(C_text, as.graphicsAnnot(x$label), x$x, x$y, :\n",
      "\"font family not found in Windows font database\"Warning message in grid.Call.graphics(C_text, as.graphicsAnnot(x$label), x$x, x$y, :\n",
      "\"font family not found in Windows font database\"Warning message in grid.Call.graphics(C_text, as.graphicsAnnot(x$label), x$x, x$y, :\n",
      "\"font family not found in Windows font database\"Warning message in grid.Call.graphics(C_text, as.graphicsAnnot(x$label), x$x, x$y, :\n",
      "\"font family not found in Windows font database\"Warning message in grid.Call.graphics(C_text, as.graphicsAnnot(x$label), x$x, x$y, :\n",
      "\"font family not found in Windows font database\""
     ]
    },
    {
     "data": {},
     "metadata": {},
     "output_type": "display_data"
    },
    {
     "data": {
      "text/html": [
       "<strong>png:</strong> 2"
      ],
      "text/latex": [
       "\\textbf{png:} 2"
      ],
      "text/markdown": [
       "**png:** 2"
      ],
      "text/plain": [
       "png \n",
       "  2 "
      ]
     },
     "metadata": {},
     "output_type": "display_data"
    }
   ],
   "source": [
    "png(\"subset2b.png\", width = 4000, height = 2000, res = 300, pointsize = 5)\n",
    "ggplot(data=dansDataSet_distribution_min100, aes(x=Species, y=Location, color=Species)) + \n",
    "  geom_point(aes(size=count)) +\n",
    "  theme(text=element_text(family=\"Arial\", size=12*(81/169)),\n",
    "        axis.text.x = element_text(angle = 90, hjust = 1, vjust=0.3))\n",
    "dev.off()"
   ]
  },
  {
   "cell_type": "markdown",
   "metadata": {},
   "source": [
    "![_Second subset plot_](subset2b.png)"
   ]
  },
  {
   "cell_type": "markdown",
   "metadata": {},
   "source": [
    "Finally, let's have a figure showing all 5 indexes together."
   ]
  },
  {
   "cell_type": "code",
   "execution_count": 20,
   "metadata": {},
   "outputs": [
    {
     "data": {
      "text/html": [
       "<strong>png:</strong> 2"
      ],
      "text/latex": [
       "\\textbf{png:} 2"
      ],
      "text/markdown": [
       "**png:** 2"
      ],
      "text/plain": [
       "png \n",
       "  2 "
      ]
     },
     "metadata": {},
     "output_type": "display_data"
    }
   ],
   "source": [
    "png(\"metrics.png\", width = 4000, height = 2000, res = 300, pointsize = 5)\n",
    "plot(metrics, pch=\"+\", col=\"blue\")\n",
    "dev.off()"
   ]
  },
  {
   "cell_type": "markdown",
   "metadata": {},
   "source": [
    "![_Second subset plot_](metrics.png)"
   ]
  },
  {
   "cell_type": "markdown",
   "metadata": {},
   "source": [
    "We could also show the most diverse sites (i.e. richness index over 10)."
   ]
  },
  {
   "cell_type": "code",
   "execution_count": 21,
   "metadata": {},
   "outputs": [
    {
     "data": {
      "text/html": [
       "<table>\n",
       "<thead><tr><th scope=col>rowname</th><th scope=col>H_Shannon</th><th scope=col>H_Simp</th><th scope=col>H_Inv_Simp</th><th scope=col>rarefy</th><th scope=col>a</th><th scope=col>richness</th><th scope=col>evenness</th></tr></thead>\n",
       "<tbody>\n",
       "\t<tr><td>Castricum, Noord-Holland, NL                       </td><td>2.804250                                           </td><td>0.9064043                                          </td><td>10.684250                                          </td><td>1.906937                                           </td><td>7.561696                                           </td><td>41                                                 </td><td>0.7551355                                          </td></tr>\n",
       "\t<tr><td>Lageweideviaduct, Utrecht, West, Utrecht, NL       </td><td>2.681204                                           </td><td>0.9175863                                          </td><td>12.133909                                          </td><td>1.926325                                           </td><td>7.853568                                           </td><td>21                                                 </td><td>0.8806650                                          </td></tr>\n",
       "\t<tr><td>Nieuwe Parklaan, Den Haag, Zuid-Holland, NL        </td><td>2.565374                                           </td><td>0.8940430                                          </td><td> 9.437788                                          </td><td>1.908234                                           </td><td>9.132867                                           </td><td>19                                                 </td><td>0.8712606                                          </td></tr>\n",
       "\t<tr><td>Terschelling, Terschelling Oosterend, Friesland, NL</td><td>2.039750                                           </td><td>0.7846147                                          </td><td> 4.642843                                          </td><td>1.789845                                           </td><td>5.326671                                           </td><td>18                                                 </td><td>0.7057049                                          </td></tr>\n",
       "\t<tr><td>Vlieland, Friesland, NL                            </td><td>1.557635                                           </td><td>0.6514916                                          </td><td> 2.869371                                          </td><td>1.653678                                           </td><td>4.208175                                           </td><td>18                                                 </td><td>0.5389046                                          </td></tr>\n",
       "\t<tr><td>Liebergerweg 301, Hilversum, Noord-Holland, NL     </td><td>2.090347                                           </td><td>0.8247599                                          </td><td> 5.706458                                          </td><td>1.832468                                           </td><td>5.191263                                           </td><td>16                                                 </td><td>0.7539332                                          </td></tr>\n",
       "\t<tr><td>Bergen, Egmond aan Zee, Noord-Holland, NL          </td><td>1.780973                                           </td><td>0.6983471                                          </td><td> 3.315068                                          </td><td>1.714588                                           </td><td>6.227126                                           </td><td>13                                                 </td><td>0.6943502                                          </td></tr>\n",
       "\t<tr><td>Wassenaar, Zuid-Holland, NL                        </td><td>1.275899                                           </td><td>0.5731265                                          </td><td> 2.342615                                          </td><td>1.576420                                           </td><td>2.919873                                           </td><td>12                                                 </td><td>0.5134595                                          </td></tr>\n",
       "\t<tr><td>Bloemendaal, Noord-Holland, NL                     </td><td>1.889995                                           </td><td>0.7935528                                          </td><td> 4.843854                                          </td><td>1.808526                                           </td><td>4.175936                                           </td><td>11                                                 </td><td>0.7881890                                          </td></tr>\n",
       "\t<tr><td>Koningin Wilhelminaweg 337, Groenekan, Utrecht, NL </td><td>1.788852                                           </td><td>0.7817288                                          </td><td> 4.581456                                          </td><td>1.787651                                           </td><td>2.845495                                           </td><td>11                                                 </td><td>0.7460090                                          </td></tr>\n",
       "\t<tr><td>Schouwen-Duiveland, Burgh Haamstede, Zeeland, NL   </td><td>2.154025                                           </td><td>0.8544000                                          </td><td> 6.868132                                          </td><td>1.890000                                           </td><td>7.503547                                           </td><td>11                                                 </td><td>0.8982982                                          </td></tr>\n",
       "\t<tr><td>Den Helder, Noord-Holland, NL                      </td><td>1.272895                                           </td><td>0.5205976                                          </td><td> 2.085930                                          </td><td>1.531915                                           </td><td>3.888665                                           </td><td>10                                                 </td><td>0.5528114                                          </td></tr>\n",
       "\t<tr><td>Schoonzicht, Lelystad, Flevoland, NL               </td><td>1.547201                                           </td><td>0.7080127                                          </td><td> 3.424806                                          </td><td>1.723404                                           </td><td>3.888665                                           </td><td>10                                                 </td><td>0.6719407                                          </td></tr>\n",
       "</tbody>\n",
       "</table>\n"
      ],
      "text/latex": [
       "\\begin{tabular}{r|llllllll}\n",
       " rowname & H\\_Shannon & H\\_Simp & H\\_Inv\\_Simp & rarefy & a & richness & evenness\\\\\n",
       "\\hline\n",
       "\t Castricum, Noord-Holland, NL                        & 2.804250                                            & 0.9064043                                           & 10.684250                                           & 1.906937                                            & 7.561696                                            & 41                                                  & 0.7551355                                          \\\\\n",
       "\t Lageweideviaduct, Utrecht, West, Utrecht, NL        & 2.681204                                            & 0.9175863                                           & 12.133909                                           & 1.926325                                            & 7.853568                                            & 21                                                  & 0.8806650                                          \\\\\n",
       "\t Nieuwe Parklaan, Den Haag, Zuid-Holland, NL         & 2.565374                                            & 0.8940430                                           &  9.437788                                           & 1.908234                                            & 9.132867                                            & 19                                                  & 0.8712606                                          \\\\\n",
       "\t Terschelling, Terschelling Oosterend, Friesland, NL & 2.039750                                            & 0.7846147                                           &  4.642843                                           & 1.789845                                            & 5.326671                                            & 18                                                  & 0.7057049                                          \\\\\n",
       "\t Vlieland, Friesland, NL                             & 1.557635                                            & 0.6514916                                           &  2.869371                                           & 1.653678                                            & 4.208175                                            & 18                                                  & 0.5389046                                          \\\\\n",
       "\t Liebergerweg 301, Hilversum, Noord-Holland, NL      & 2.090347                                            & 0.8247599                                           &  5.706458                                           & 1.832468                                            & 5.191263                                            & 16                                                  & 0.7539332                                          \\\\\n",
       "\t Bergen, Egmond aan Zee, Noord-Holland, NL           & 1.780973                                            & 0.6983471                                           &  3.315068                                           & 1.714588                                            & 6.227126                                            & 13                                                  & 0.6943502                                          \\\\\n",
       "\t Wassenaar, Zuid-Holland, NL                         & 1.275899                                            & 0.5731265                                           &  2.342615                                           & 1.576420                                            & 2.919873                                            & 12                                                  & 0.5134595                                          \\\\\n",
       "\t Bloemendaal, Noord-Holland, NL                      & 1.889995                                            & 0.7935528                                           &  4.843854                                           & 1.808526                                            & 4.175936                                            & 11                                                  & 0.7881890                                          \\\\\n",
       "\t Koningin Wilhelminaweg 337, Groenekan, Utrecht, NL  & 1.788852                                            & 0.7817288                                           &  4.581456                                           & 1.787651                                            & 2.845495                                            & 11                                                  & 0.7460090                                          \\\\\n",
       "\t Schouwen-Duiveland, Burgh Haamstede, Zeeland, NL    & 2.154025                                            & 0.8544000                                           &  6.868132                                           & 1.890000                                            & 7.503547                                            & 11                                                  & 0.8982982                                          \\\\\n",
       "\t Den Helder, Noord-Holland, NL                       & 1.272895                                            & 0.5205976                                           &  2.085930                                           & 1.531915                                            & 3.888665                                            & 10                                                  & 0.5528114                                          \\\\\n",
       "\t Schoonzicht, Lelystad, Flevoland, NL                & 1.547201                                            & 0.7080127                                           &  3.424806                                           & 1.723404                                            & 3.888665                                            & 10                                                  & 0.6719407                                          \\\\\n",
       "\\end{tabular}\n"
      ],
      "text/markdown": [
       "\n",
       "rowname | H_Shannon | H_Simp | H_Inv_Simp | rarefy | a | richness | evenness | \n",
       "|---|---|---|---|---|---|---|---|---|---|---|---|---|\n",
       "| Castricum, Noord-Holland, NL                        | 2.804250                                            | 0.9064043                                           | 10.684250                                           | 1.906937                                            | 7.561696                                            | 41                                                  | 0.7551355                                           | \n",
       "| Lageweideviaduct, Utrecht, West, Utrecht, NL        | 2.681204                                            | 0.9175863                                           | 12.133909                                           | 1.926325                                            | 7.853568                                            | 21                                                  | 0.8806650                                           | \n",
       "| Nieuwe Parklaan, Den Haag, Zuid-Holland, NL         | 2.565374                                            | 0.8940430                                           |  9.437788                                           | 1.908234                                            | 9.132867                                            | 19                                                  | 0.8712606                                           | \n",
       "| Terschelling, Terschelling Oosterend, Friesland, NL | 2.039750                                            | 0.7846147                                           |  4.642843                                           | 1.789845                                            | 5.326671                                            | 18                                                  | 0.7057049                                           | \n",
       "| Vlieland, Friesland, NL                             | 1.557635                                            | 0.6514916                                           |  2.869371                                           | 1.653678                                            | 4.208175                                            | 18                                                  | 0.5389046                                           | \n",
       "| Liebergerweg 301, Hilversum, Noord-Holland, NL      | 2.090347                                            | 0.8247599                                           |  5.706458                                           | 1.832468                                            | 5.191263                                            | 16                                                  | 0.7539332                                           | \n",
       "| Bergen, Egmond aan Zee, Noord-Holland, NL           | 1.780973                                            | 0.6983471                                           |  3.315068                                           | 1.714588                                            | 6.227126                                            | 13                                                  | 0.6943502                                           | \n",
       "| Wassenaar, Zuid-Holland, NL                         | 1.275899                                            | 0.5731265                                           |  2.342615                                           | 1.576420                                            | 2.919873                                            | 12                                                  | 0.5134595                                           | \n",
       "| Bloemendaal, Noord-Holland, NL                      | 1.889995                                            | 0.7935528                                           |  4.843854                                           | 1.808526                                            | 4.175936                                            | 11                                                  | 0.7881890                                           | \n",
       "| Koningin Wilhelminaweg 337, Groenekan, Utrecht, NL  | 1.788852                                            | 0.7817288                                           |  4.581456                                           | 1.787651                                            | 2.845495                                            | 11                                                  | 0.7460090                                           | \n",
       "| Schouwen-Duiveland, Burgh Haamstede, Zeeland, NL    | 2.154025                                            | 0.8544000                                           |  6.868132                                           | 1.890000                                            | 7.503547                                            | 11                                                  | 0.8982982                                           | \n",
       "| Den Helder, Noord-Holland, NL                       | 1.272895                                            | 0.5205976                                           |  2.085930                                           | 1.531915                                            | 3.888665                                            | 10                                                  | 0.5528114                                           | \n",
       "| Schoonzicht, Lelystad, Flevoland, NL                | 1.547201                                            | 0.7080127                                           |  3.424806                                           | 1.723404                                            | 3.888665                                            | 10                                                  | 0.6719407                                           | \n",
       "\n",
       "\n"
      ],
      "text/plain": [
       "   rowname                                             H_Shannon H_Simp   \n",
       "1  Castricum, Noord-Holland, NL                        2.804250  0.9064043\n",
       "2  Lageweideviaduct, Utrecht, West, Utrecht, NL        2.681204  0.9175863\n",
       "3  Nieuwe Parklaan, Den Haag, Zuid-Holland, NL         2.565374  0.8940430\n",
       "4  Terschelling, Terschelling Oosterend, Friesland, NL 2.039750  0.7846147\n",
       "5  Vlieland, Friesland, NL                             1.557635  0.6514916\n",
       "6  Liebergerweg 301, Hilversum, Noord-Holland, NL      2.090347  0.8247599\n",
       "7  Bergen, Egmond aan Zee, Noord-Holland, NL           1.780973  0.6983471\n",
       "8  Wassenaar, Zuid-Holland, NL                         1.275899  0.5731265\n",
       "9  Bloemendaal, Noord-Holland, NL                      1.889995  0.7935528\n",
       "10 Koningin Wilhelminaweg 337, Groenekan, Utrecht, NL  1.788852  0.7817288\n",
       "11 Schouwen-Duiveland, Burgh Haamstede, Zeeland, NL    2.154025  0.8544000\n",
       "12 Den Helder, Noord-Holland, NL                       1.272895  0.5205976\n",
       "13 Schoonzicht, Lelystad, Flevoland, NL                1.547201  0.7080127\n",
       "   H_Inv_Simp rarefy   a        richness evenness \n",
       "1  10.684250  1.906937 7.561696 41       0.7551355\n",
       "2  12.133909  1.926325 7.853568 21       0.8806650\n",
       "3   9.437788  1.908234 9.132867 19       0.8712606\n",
       "4   4.642843  1.789845 5.326671 18       0.7057049\n",
       "5   2.869371  1.653678 4.208175 18       0.5389046\n",
       "6   5.706458  1.832468 5.191263 16       0.7539332\n",
       "7   3.315068  1.714588 6.227126 13       0.6943502\n",
       "8   2.342615  1.576420 2.919873 12       0.5134595\n",
       "9   4.843854  1.808526 4.175936 11       0.7881890\n",
       "10  4.581456  1.787651 2.845495 11       0.7460090\n",
       "11  6.868132  1.890000 7.503547 11       0.8982982\n",
       "12  2.085930  1.531915 3.888665 10       0.5528114\n",
       "13  3.424806  1.723404 3.888665 10       0.6719407"
      ]
     },
     "metadata": {},
     "output_type": "display_data"
    }
   ],
   "source": [
    "top10_site_metrics <- metrics %>%\n",
    "  tibble::rownames_to_column() %>%\n",
    "  filter(richness >= 10) %>%\n",
    "  arrange(desc(richness))\n",
    "\n",
    "top10_site_metrics"
   ]
  },
  {
   "cell_type": "markdown",
   "metadata": {},
   "source": [
    "# Conclusions\n",
    "\n",
    "Jupyter notebooks and R is awesome!"
   ]
  }
 ],
 "metadata": {
  "kernelspec": {
   "display_name": "R",
   "language": "R",
   "name": "ir"
  },
  "language_info": {
   "codemirror_mode": "r",
   "file_extension": ".r",
   "mimetype": "text/x-r-source",
   "name": "R",
   "pygments_lexer": "r",
   "version": "3.4.2"
  }
 },
 "nbformat": 4,
 "nbformat_minor": 2
}
